{
  "nbformat": 4,
  "nbformat_minor": 0,
  "metadata": {
    "kernelspec": {
      "display_name": "R",
      "language": "R",
      "name": "ir"
    },
    "language_info": {
      "codemirror_mode": "r",
      "file_extension": ".r",
      "mimetype": "text/x-r-source",
      "name": "R",
      "pygments_lexer": "r",
      "version": "3.3.1"
    },
    "colab": {
      "name": "Demo.ipynb",
      "provenance": [],
      "include_colab_link": true
    }
  },
  "cells": [
    {
      "cell_type": "markdown",
      "metadata": {
        "id": "view-in-github",
        "colab_type": "text"
      },
      "source": [
        "<a href=\"https://colab.research.google.com/github/dexlau/cs6460/blob/master/statistical_literacy_codelab.ipynb\" target=\"_parent\"><img src=\"https://colab.research.google.com/assets/colab-badge.svg\" alt=\"Open In Colab\"/></a>"
      ]
    },
    {
      "cell_type": "markdown",
      "metadata": {
        "id": "xShfsP2jpC2F",
        "colab_type": "text"
      },
      "source": [
        "Code without visible output:"
      ]
    },
    {
      "cell_type": "code",
      "metadata": {
        "id": "G88-FOXapC2H",
        "colab_type": "code",
        "colab": {}
      },
      "source": [
        "a <- 8"
      ],
      "execution_count": 0,
      "outputs": []
    },
    {
      "cell_type": "code",
      "metadata": {
        "id": "8M9ZYnzHpC2M",
        "colab_type": "code",
        "colab": {}
      },
      "source": [
        "b <- 4:59"
      ],
      "execution_count": 0,
      "outputs": []
    },
    {
      "cell_type": "markdown",
      "metadata": {
        "id": "zQtuKXD3pC2O",
        "colab_type": "text"
      },
      "source": [
        "With visible output:"
      ]
    },
    {
      "cell_type": "code",
      "metadata": {
        "id": "5bfJFj58pC2P",
        "colab_type": "code",
        "outputId": "8dfffd39-de16-452a-d5b1-9d6eaaa90e5e",
        "colab": {
          "base_uri": "https://localhost:8080/",
          "height": 997
        }
      },
      "source": [
        "a + b"
      ],
      "execution_count": 0,
      "outputs": [
        {
          "output_type": "display_data",
          "data": {
            "text/plain": [
              " [1] 12 13 14 15 16 17 18 19 20 21 22 23 24 25 26 27 28 29 30 31 32 33 34 35 36\n",
              "[26] 37 38 39 40 41 42 43 44 45 46 47 48 49 50 51 52 53 54 55 56 57 58 59 60 61\n",
              "[51] 62 63 64 65 66 67"
            ],
            "text/latex": "\\begin{enumerate*}\n\\item 12\n\\item 13\n\\item 14\n\\item 15\n\\item 16\n\\item 17\n\\item 18\n\\item 19\n\\item 20\n\\item 21\n\\item 22\n\\item 23\n\\item 24\n\\item 25\n\\item 26\n\\item 27\n\\item 28\n\\item 29\n\\item 30\n\\item 31\n\\item 32\n\\item 33\n\\item 34\n\\item 35\n\\item 36\n\\item 37\n\\item 38\n\\item 39\n\\item 40\n\\item 41\n\\item 42\n\\item 43\n\\item 44\n\\item 45\n\\item 46\n\\item 47\n\\item 48\n\\item 49\n\\item 50\n\\item 51\n\\item 52\n\\item 53\n\\item 54\n\\item 55\n\\item 56\n\\item 57\n\\item 58\n\\item 59\n\\item 60\n\\item 61\n\\item 62\n\\item 63\n\\item 64\n\\item 65\n\\item 66\n\\item 67\n\\end{enumerate*}\n",
            "text/markdown": "1. 12\n2. 13\n3. 14\n4. 15\n5. 16\n6. 17\n7. 18\n8. 19\n9. 20\n10. 21\n11. 22\n12. 23\n13. 24\n14. 25\n15. 26\n16. 27\n17. 28\n18. 29\n19. 30\n20. 31\n21. 32\n22. 33\n23. 34\n24. 35\n25. 36\n26. 37\n27. 38\n28. 39\n29. 40\n30. 41\n31. 42\n32. 43\n33. 44\n34. 45\n35. 46\n36. 47\n37. 48\n38. 49\n39. 50\n40. 51\n41. 52\n42. 53\n43. 54\n44. 55\n45. 56\n46. 57\n47. 58\n48. 59\n49. 60\n50. 61\n51. 62\n52. 63\n53. 64\n54. 65\n55. 66\n56. 67\n\n\n",
            "text/html": [
              "<ol class=list-inline>\n",
              "\t<li>12</li>\n",
              "\t<li>13</li>\n",
              "\t<li>14</li>\n",
              "\t<li>15</li>\n",
              "\t<li>16</li>\n",
              "\t<li>17</li>\n",
              "\t<li>18</li>\n",
              "\t<li>19</li>\n",
              "\t<li>20</li>\n",
              "\t<li>21</li>\n",
              "\t<li>22</li>\n",
              "\t<li>23</li>\n",
              "\t<li>24</li>\n",
              "\t<li>25</li>\n",
              "\t<li>26</li>\n",
              "\t<li>27</li>\n",
              "\t<li>28</li>\n",
              "\t<li>29</li>\n",
              "\t<li>30</li>\n",
              "\t<li>31</li>\n",
              "\t<li>32</li>\n",
              "\t<li>33</li>\n",
              "\t<li>34</li>\n",
              "\t<li>35</li>\n",
              "\t<li>36</li>\n",
              "\t<li>37</li>\n",
              "\t<li>38</li>\n",
              "\t<li>39</li>\n",
              "\t<li>40</li>\n",
              "\t<li>41</li>\n",
              "\t<li>42</li>\n",
              "\t<li>43</li>\n",
              "\t<li>44</li>\n",
              "\t<li>45</li>\n",
              "\t<li>46</li>\n",
              "\t<li>47</li>\n",
              "\t<li>48</li>\n",
              "\t<li>49</li>\n",
              "\t<li>50</li>\n",
              "\t<li>51</li>\n",
              "\t<li>52</li>\n",
              "\t<li>53</li>\n",
              "\t<li>54</li>\n",
              "\t<li>55</li>\n",
              "\t<li>56</li>\n",
              "\t<li>57</li>\n",
              "\t<li>58</li>\n",
              "\t<li>59</li>\n",
              "\t<li>60</li>\n",
              "\t<li>61</li>\n",
              "\t<li>62</li>\n",
              "\t<li>63</li>\n",
              "\t<li>64</li>\n",
              "\t<li>65</li>\n",
              "\t<li>66</li>\n",
              "\t<li>67</li>\n",
              "</ol>\n"
            ]
          },
          "metadata": {
            "tags": []
          }
        }
      ]
    },
    {
      "cell_type": "markdown",
      "metadata": {
        "id": "riLd0snZpC2S",
        "colab_type": "text"
      },
      "source": [
        "Printing is captured and sent to the frontend:"
      ]
    },
    {
      "cell_type": "code",
      "metadata": {
        "id": "-GLd2ah8pC2T",
        "colab_type": "code",
        "outputId": "333af354-1c57-4713-f04f-22646b3b932d",
        "colab": {
          "base_uri": "https://localhost:8080/",
          "height": 34
        }
      },
      "source": [
        "print('Hello world! Love, R in Jupyter.')"
      ],
      "execution_count": 0,
      "outputs": [
        {
          "output_type": "stream",
          "text": [
            "[1] \"Hello world! Love, R in Jupyter.\"\n"
          ],
          "name": "stdout"
        }
      ]
    },
    {
      "cell_type": "markdown",
      "metadata": {
        "id": "lwExi1fQpC2W",
        "colab_type": "text"
      },
      "source": [
        "So are errors:"
      ]
    },
    {
      "cell_type": "code",
      "metadata": {
        "id": "NCP0L2_xpC2W",
        "colab_type": "code",
        "colab": {}
      },
      "source": [
        "f2 <- function() stop('deep error')\n",
        "throw <- function() f2()"
      ],
      "execution_count": 0,
      "outputs": []
    },
    {
      "cell_type": "markdown",
      "metadata": {
        "id": "Gm71aCEtpC2d",
        "colab_type": "text"
      },
      "source": [
        "Plotting works too:"
      ]
    },
    {
      "cell_type": "code",
      "metadata": {
        "id": "3JMF_40FpC2d",
        "colab_type": "code",
        "colab": {}
      },
      "source": [
        "x <- seq(0, 2*pi, length.out=50)\n",
        "plot(x, sin(x))"
      ],
      "execution_count": 0,
      "outputs": []
    }
  ]
}