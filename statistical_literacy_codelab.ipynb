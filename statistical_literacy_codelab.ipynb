{
  "nbformat": 4,
  "nbformat_minor": 0,
  "metadata": {
    "kernelspec": {
      "display_name": "R",
      "language": "R",
      "name": "ir"
    },
    "language_info": {
      "codemirror_mode": "r",
      "file_extension": ".r",
      "mimetype": "text/x-r-source",
      "name": "R",
      "pygments_lexer": "r",
      "version": "3.3.1"
    },
    "colab": {
      "name": "statistical_literacy_codelab.ipynb",
      "provenance": [],
      "collapsed_sections": [],
      "toc_visible": true,
      "include_colab_link": true
    }
  },
  "cells": [
    {
      "cell_type": "markdown",
      "metadata": {
        "id": "view-in-github",
        "colab_type": "text"
      },
      "source": [
        "<a href=\"https://colab.research.google.com/github/dexlau/cs6460/blob/master/statistical_literacy_codelab.ipynb\" target=\"_parent\"><img src=\"https://colab.research.google.com/assets/colab-badge.svg\" alt=\"Open In Colab\"/></a>"
      ]
    },
    {
      "cell_type": "markdown",
      "metadata": {
        "id": "thMJEppg-zZi",
        "colab_type": "text"
      },
      "source": [
        "# Unit 1: Introduction to Data Manipulation and Visualization in R\n",
        "\n",
        "This interactive codelab will introduce you to some basic statistical literacy concepts. The [end goal](https://drive.google.com/open?id=1-Ca41jDsUxPyVt32n9qvPF6_nJK86-Ru) is to give you a sense of how to apply statistical concepts into practical data science solutions for your next school assignment or work project.\n",
        "\n",
        "*Prerequisite: To get the most out of this course, a basic knowledge of statistical functions (e.g. mean, median, mode) is required.*\n",
        "\n",
        "**Running this codelab**: To run this Colab notebook, you'll be asked to `Connect` (top right). When you do, Colab will ask you to acknowledge that it is okay to use the IRKernel (open source version of R from GitHub). Select `RUN ANYWAY` to continue.\n",
        "![warning message](https://i.imgur.com/RWtiOr0.png)"
      ]
    },
    {
      "cell_type": "markdown",
      "metadata": {
        "id": "4gTk4HGRCOfs",
        "colab_type": "text"
      },
      "source": [
        "## Curriculum\n",
        "\n",
        "1.   An introduction to R (data types and structures)\n",
        "1.   Illustrating a basic test set (e.g. mtcars)\n",
        "1.   Plotting the data set\n",
        "1.   Manipulating data - aggregating without grouping\n",
        "1.   Manipulating data - aggregating with grouping\n",
        "1.   Plotting aggregate data groups\n",
        "1.   Outliers - demonstrating how some data can skew results\n",
        "1.   Modeling - illustrating a regression\n",
        "1.   Confidence Intervals - demonstrate how data is subject to certainty\n",
        "1.   New data - revisit the above with a new data set from user\n",
        "\n"
      ]
    },
    {
      "cell_type": "markdown",
      "metadata": {
        "id": "xShfsP2jpC2F",
        "colab_type": "text"
      },
      "source": [
        "## Introduction\n",
        "\n",
        "Before we can start manipulating and visualizing data, we have to get a sense of what shapes data can come in. Similar to how shapes can be described as rectangles, circles, or stars, data comes in a few common types. These data types in R include:\n",
        "*   character: 'a', 'abc' (quotation marks to indicate the characters)\n",
        "*   numeric: 2, 15.5\n",
        "*   integer: 2L (like numeric, but the 'L' indicates we don't want fractions)\n",
        "*   logical: TRUE, FALSE\n",
        "*   complex: 1+2i (complex numbers with real and imaginary parts)"
      ]
    },
    {
      "cell_type": "markdown",
      "metadata": {
        "id": "xvwqZjMe7y0C",
        "colab_type": "text"
      },
      "source": [
        "### Data type examples\n",
        "Print a few examples of data types."
      ]
    },
    {
      "cell_type": "code",
      "metadata": {
        "id": "q7WC-3yG65WR",
        "colab_type": "code",
        "outputId": "4253028a-8385-4aea-c054-a2e1bafeea27",
        "colab": {
          "base_uri": "https://localhost:8080/",
          "height": 110
        }
      },
      "source": [
        "# Store and print example data types.\n",
        "data_type_example_1 <- 'a'\n",
        "data_type_example_2 <- 15.5\n",
        "data_type_example_3 <- 2L\n",
        "data_type_example_4 <- TRUE\n",
        "data_type_example_5 <- 1+2i\n",
        "print(paste(data_type_example_1,'is',class(data_type_example_1)))\n",
        "print(paste(data_type_example_2,'is',class(data_type_example_2)))\n",
        "print(paste(data_type_example_3,'is',class(data_type_example_3)))\n",
        "print(paste(data_type_example_4,'is',class(data_type_example_4)))\n",
        "print(paste(data_type_example_5,'is',class(data_type_example_5)))"
      ],
      "execution_count": 0,
      "outputs": [
        {
          "output_type": "stream",
          "text": [
            "[1] \"a is character\"\n",
            "[1] \"15.5 is numeric\"\n",
            "[1] \"2 is integer\"\n",
            "[1] \"TRUE is logical\"\n",
            "[1] \"1+2i is complex\"\n"
          ],
          "name": "stdout"
        }
      ]
    },
    {
      "cell_type": "markdown",
      "metadata": {
        "id": "j7O-HZQ47_4x",
        "colab_type": "text"
      },
      "source": [
        "### Data type identifier\n",
        "Try entering a value into `data_type_example` (to the right) and see what data type it corresponds to by pressing the 'Play' button on the left (or `ctrl-shift-enter`).\n",
        "\n",
        "For `character` data types, surround your input with quotation marks to avoid the `Error in eval(expr, envir, enclos)` error."
      ]
    },
    {
      "cell_type": "code",
      "metadata": {
        "id": "G88-FOXapC2H",
        "colab_type": "code",
        "cellView": "both",
        "outputId": "456bb637-8672-401b-ba0b-96b45b9a59db",
        "colab": {
          "base_uri": "https://localhost:8080/",
          "height": 35
        }
      },
      "source": [
        "# Try entering values to see their data types.\n",
        "data_type_example <- 'a' #@param {type:\"raw\"}\n",
        "print(class(data_type_example))"
      ],
      "execution_count": 0,
      "outputs": [
        {
          "output_type": "stream",
          "text": [
            "[1] \"character\"\n"
          ],
          "name": "stdout"
        }
      ]
    },
    {
      "cell_type": "markdown",
      "metadata": {
        "id": "X9a4-ng0JOKD",
        "colab_type": "text"
      },
      "source": [
        "### Storing values\n",
        "To keep data around, we need to assign it to a variable. This is done using the assignment operator, `<-`. Below, we assign `'Fido'` to `my_dogs_name`."
      ]
    },
    {
      "cell_type": "code",
      "metadata": {
        "id": "sI1t926LJf_i",
        "colab_type": "code",
        "outputId": "1f87da32-66fc-44ec-dd14-7d79d2e8b796",
        "colab": {
          "base_uri": "https://localhost:8080/",
          "height": 35
        }
      },
      "source": [
        "my_dogs_name <- 'Fido'\n",
        "print(my_dogs_name)"
      ],
      "execution_count": 0,
      "outputs": [
        {
          "output_type": "stream",
          "text": [
            "[1] \"Fido\"\n"
          ],
          "name": "stdout"
        }
      ]
    },
    {
      "cell_type": "markdown",
      "metadata": {
        "id": "o_DQ8NeMIAu-",
        "colab_type": "text"
      },
      "source": [
        "### Lists of values\n",
        "One piece of data alone isn't too helpful. We can group some similar data together using `c()`, which groups a set of one type of data together."
      ]
    },
    {
      "cell_type": "code",
      "metadata": {
        "id": "8M9ZYnzHpC2M",
        "colab_type": "code",
        "outputId": "18f220e1-483a-47e0-f8b0-7a0ab6f38964",
        "colab": {
          "base_uri": "https://localhost:8080/",
          "height": 35
        }
      },
      "source": [
        "your_dogs_name <- 'Fluffy'\n",
        "our_dogs_names <- c(my_dogs_name, your_dogs_name)\n",
        "print(our_dogs_names)"
      ],
      "execution_count": 0,
      "outputs": [
        {
          "output_type": "stream",
          "text": [
            "[1] \"Fido\"   \"Fluffy\"\n"
          ],
          "name": "stdout"
        }
      ]
    },
    {
      "cell_type": "markdown",
      "metadata": {
        "id": "zQtuKXD3pC2O",
        "colab_type": "text"
      },
      "source": [
        "### Data frames of values\n",
        "\n",
        "We can go a step further and combine groups of data together. This dense representation of data is called a `data frame`. This is analogous to a spreadsheet or table. Let's attach some ages to our dogs and save it as `dog_table`."
      ]
    },
    {
      "cell_type": "code",
      "metadata": {
        "id": "5bfJFj58pC2P",
        "colab_type": "code",
        "outputId": "1d4331b7-62ae-42c7-e963-ae05c8fedf99",
        "colab": {
          "base_uri": "https://localhost:8080/",
          "height": 73
        }
      },
      "source": [
        "dog_table <- data.frame(\"name\" = our_dogs_names, \"age_in_human_years\" = c(2,5))\n",
        "print(dog_table)"
      ],
      "execution_count": 0,
      "outputs": [
        {
          "output_type": "stream",
          "text": [
            "    name age_in_human_years\n",
            "1   Fido                  2\n",
            "2 Fluffy                  5\n"
          ],
          "name": "stdout"
        }
      ]
    },
    {
      "cell_type": "markdown",
      "metadata": {
        "id": "lSEJNmL4Mlxl",
        "colab_type": "text"
      },
      "source": [
        "## Test Data\n",
        "\n",
        "Let's load up some test data for us to play with. `mtcars` is a `data.frame` with car characteristics and mileage. To get a sense of what the data looks like, we can use `str()`."
      ]
    },
    {
      "cell_type": "code",
      "metadata": {
        "id": "YXGTLCh9NWso",
        "colab_type": "code",
        "outputId": "a591736e-9f91-4eb3-9bf5-4c93d09b8ea0",
        "colab": {
          "base_uri": "https://localhost:8080/",
          "height": 241
        }
      },
      "source": [
        "data(mtcars)\n",
        "str(mtcars)  # Describe the columns, data types, sample values, and table size.\n"
      ],
      "execution_count": 0,
      "outputs": [
        {
          "output_type": "stream",
          "text": [
            "'data.frame':\t32 obs. of  11 variables:\n",
            " $ mpg : num  21 21 22.8 21.4 18.7 18.1 14.3 24.4 22.8 19.2 ...\n",
            " $ cyl : num  6 6 4 6 8 6 8 4 4 6 ...\n",
            " $ disp: num  160 160 108 258 360 ...\n",
            " $ hp  : num  110 110 93 110 175 105 245 62 95 123 ...\n",
            " $ drat: num  3.9 3.9 3.85 3.08 3.15 2.76 3.21 3.69 3.92 3.92 ...\n",
            " $ wt  : num  2.62 2.88 2.32 3.21 3.44 ...\n",
            " $ qsec: num  16.5 17 18.6 19.4 17 ...\n",
            " $ vs  : num  0 0 1 1 0 1 0 1 1 1 ...\n",
            " $ am  : num  1 1 1 0 0 0 0 0 0 0 ...\n",
            " $ gear: num  4 4 4 3 3 3 3 4 4 4 ...\n",
            " $ carb: num  4 4 1 1 2 1 4 2 2 4 ...\n"
          ],
          "name": "stdout"
        }
      ]
    },
    {
      "cell_type": "markdown",
      "metadata": {
        "id": "LiThdH0nO08Q",
        "colab_type": "text"
      },
      "source": [
        "To build an intuition about that data, we can explore some useful summary statistics using the `summary()` function. It provides the minimum value, maximum value, quartile values, and mean values of each column of data. From the 32 cars in this [1973–1974 data set](https://stat.ethz.ch/R-manual/R-devel/library/datasets/html/mtcars.html), we can see the average `mpg` is `20.09`."
      ]
    },
    {
      "cell_type": "code",
      "metadata": {
        "id": "8MeVK5ZMOONe",
        "colab_type": "code",
        "outputId": "88dbe346-2c52-4e8e-aba5-1b24a6a53d8e",
        "colab": {
          "base_uri": "https://localhost:8080/",
          "height": 409
        }
      },
      "source": [
        "summary(mtcars)"
      ],
      "execution_count": 0,
      "outputs": [
        {
          "output_type": "display_data",
          "data": {
            "text/plain": [
              "      mpg             cyl             disp             hp       \n",
              " Min.   :10.40   Min.   :4.000   Min.   : 71.1   Min.   : 52.0  \n",
              " 1st Qu.:15.43   1st Qu.:4.000   1st Qu.:120.8   1st Qu.: 96.5  \n",
              " Median :19.20   Median :6.000   Median :196.3   Median :123.0  \n",
              " Mean   :20.09   Mean   :6.188   Mean   :230.7   Mean   :146.7  \n",
              " 3rd Qu.:22.80   3rd Qu.:8.000   3rd Qu.:326.0   3rd Qu.:180.0  \n",
              " Max.   :33.90   Max.   :8.000   Max.   :472.0   Max.   :335.0  \n",
              "      drat             wt             qsec             vs        \n",
              " Min.   :2.760   Min.   :1.513   Min.   :14.50   Min.   :0.0000  \n",
              " 1st Qu.:3.080   1st Qu.:2.581   1st Qu.:16.89   1st Qu.:0.0000  \n",
              " Median :3.695   Median :3.325   Median :17.71   Median :0.0000  \n",
              " Mean   :3.597   Mean   :3.217   Mean   :17.85   Mean   :0.4375  \n",
              " 3rd Qu.:3.920   3rd Qu.:3.610   3rd Qu.:18.90   3rd Qu.:1.0000  \n",
              " Max.   :4.930   Max.   :5.424   Max.   :22.90   Max.   :1.0000  \n",
              "       am              gear            carb      \n",
              " Min.   :0.0000   Min.   :3.000   Min.   :1.000  \n",
              " 1st Qu.:0.0000   1st Qu.:3.000   1st Qu.:2.000  \n",
              " Median :0.0000   Median :4.000   Median :2.000  \n",
              " Mean   :0.4062   Mean   :3.688   Mean   :2.812  \n",
              " 3rd Qu.:1.0000   3rd Qu.:4.000   3rd Qu.:4.000  \n",
              " Max.   :1.0000   Max.   :5.000   Max.   :8.000  "
            ]
          },
          "metadata": {
            "tags": []
          }
        }
      ]
    },
    {
      "cell_type": "markdown",
      "metadata": {
        "id": "HyKCavLvPrdV",
        "colab_type": "text"
      },
      "source": [
        "## Plotting the Data\n",
        "\n",
        "Rather than presenting large amounts of data as a table or summary statistics, we can visualize it using plots (AKA charts). This makes reading data easier.\n",
        "\n",
        "### Histogram\n",
        "\n",
        "A simple histogram can give us a sense of how many cars have a given `mpg` value. With one visual, we can see that most cars have an `mpg` near `20`, but cars with much higher or lower `mpg` values are less common.\n"
      ]
    },
    {
      "cell_type": "code",
      "metadata": {
        "id": "gdpKNoOOUvZK",
        "colab_type": "code",
        "outputId": "3247cf29-6c1a-44d1-cbc0-7d27557da232",
        "colab": {
          "base_uri": "https://localhost:8080/",
          "height": 857
        }
      },
      "source": [
        "suppressMessages(\n",
        "  library(ggplot2))  # A helpful library for plotting data easily.\n",
        "ggplot(mtcars,aes(x=mpg)) +  # Create a new plot.\n",
        "  geom_histogram(binwidth=5)  # Add a histogram to the plot, grouping mpg by 5."
      ],
      "execution_count": 83,
      "outputs": [
        {
          "output_type": "display_data",
          "data": {
            "image/png": "[encoded data removed]",
            "text/plain": [
              "plot without title"
            ]
          },
          "metadata": {
            "tags": []
          }
        }
      ]
    },
    {
      "cell_type": "markdown",
      "metadata": {
        "id": "riLd0snZpC2S",
        "colab_type": "text"
      },
      "source": [
        "### Scatter plot\n",
        "\n",
        "Representing the data with different plots using different columns of data helps us show interesting relationships. For example, showing `mpg` versus `wt` (weight) succinctly describes how two values relate to each other. In this case, heavier cars have lower `mpg` values."
      ]
    },
    {
      "cell_type": "code",
      "metadata": {
        "id": "-GLd2ah8pC2T",
        "colab_type": "code",
        "outputId": "5b72b3ab-d8c5-466f-c1bc-b190a8fcf45b",
        "colab": {
          "base_uri": "https://localhost:8080/",
          "height": 857
        }
      },
      "source": [
        "ggplot(mtcars,aes(x=wt,y=mpg)) + geom_point()"
      ],
      "execution_count": 0,
      "outputs": [
        {
          "output_type": "display_data",
          "data": {
            "image/png": "[encoded data removed]",
            "text/plain": [
              "plot without title"
            ]
          },
          "metadata": {
            "tags": []
          }
        }
      ]
    },
    {
      "cell_type": "markdown",
      "metadata": {
        "id": "Z3U9VAdiZATB",
        "colab_type": "text"
      },
      "source": [
        "## Manipulating data - Aggregating Without Grouping\n",
        "\n",
        "While `summary()` is useful to show common statistics, it might not have the an aggregation you are curious about. We can use another [built in stats function](https://stat.ethz.ch/R-manual/R-devel/library/stats/html/00Index.html) like `var()` to compute variance for the `mpg` column.\n",
        "\n",
        "Here we use a handy package called `dplyr` ([documentation](https://dplyr.tidyverse.org/)) to make data manipulation easier. Starting with a dataset, you can sequentially apply data manipulation commands using `%>%`."
      ]
    },
    {
      "cell_type": "code",
      "metadata": {
        "id": "vzSoIt8wZ89S",
        "colab_type": "code",
        "outputId": "84f50cb1-7afa-4bbc-d4a1-7d091e0670aa",
        "colab": {
          "base_uri": "https://localhost:8080/",
          "height": 91
        }
      },
      "source": [
        "suppressMessages(library(dplyr))  # A helpful package for manipulating data.\n",
        "mpg_var <- mtcars %>%\n",
        "  summarise_each(\n",
        "    mpg,\n",
        "    funs=list(var)) %>%  # Apply `var()` to each column.\n",
        "  as_tibble()\n",
        "print(mpg_var)"
      ],
      "execution_count": 0,
      "outputs": [
        {
          "output_type": "stream",
          "text": [
            "\u001b[90m# A tibble: 1 x 1\u001b[39m\n",
            "    mpg\n",
            "  \u001b[3m\u001b[90m<dbl>\u001b[39m\u001b[23m\n",
            "\u001b[90m1\u001b[39m  36.3\n"
          ],
          "name": "stdout"
        }
      ]
    },
    {
      "cell_type": "markdown",
      "metadata": {
        "id": "oKKa17HbZIs2",
        "colab_type": "text"
      },
      "source": [
        "## Manipulating data - Aggregating With Grouping\n",
        "\n",
        "Overall statistics can too general. We can instead group certain data together and compute their statistics independently. For example, we can look at the mean `mpg` for cars based on the number of cylinders they have."
      ]
    },
    {
      "cell_type": "code",
      "metadata": {
        "id": "oRbEXV8qeWD5",
        "colab_type": "code",
        "outputId": "9d443022-7fbc-4421-f82a-742ea6c8d816",
        "colab": {
          "base_uri": "https://localhost:8080/",
          "height": 129
        }
      },
      "source": [
        "mpg_stats <- mtcars %>%\n",
        "  group_by(cyl) %>%  # Separate data into groups based on cylinder count.\n",
        "  summarise_each(\n",
        "    mpg,  # Indicate the column we want to summarize.\n",
        "    funs=funs(mean_mpg=mean)) %>%  # Calculate mean for each group.\n",
        "  as_tibble()\n",
        "print(mpg_stats)"
      ],
      "execution_count": 0,
      "outputs": [
        {
          "output_type": "stream",
          "text": [
            "\u001b[90m# A tibble: 3 x 2\u001b[39m\n",
            "    cyl mean_mpg\n",
            "  \u001b[3m\u001b[90m<dbl>\u001b[39m\u001b[23m    \u001b[3m\u001b[90m<dbl>\u001b[39m\u001b[23m\n",
            "\u001b[90m1\u001b[39m     4     26.7\n",
            "\u001b[90m2\u001b[39m     6     19.7\n",
            "\u001b[90m3\u001b[39m     8     15.1\n"
          ],
          "name": "stdout"
        }
      ]
    },
    {
      "cell_type": "markdown",
      "metadata": {
        "id": "OeF2g4s5h8Ve",
        "colab_type": "text"
      },
      "source": [
        "## Plotting Aggregations\n",
        "\n",
        "Numbers are easier to compare when they are visualized. Let's plot `mpg_stats` using bar charts to illustrate the difference in `mpg` by `cyl`."
      ]
    },
    {
      "cell_type": "code",
      "metadata": {
        "id": "IsWl_dtlicTk",
        "colab_type": "code",
        "outputId": "7446ca0d-0fc6-498b-b307-a089e27b19e7",
        "colab": {
          "base_uri": "https://localhost:8080/",
          "height": 857
        }
      },
      "source": [
        "ggplot(mpg_stats, aes(x=cyl,y=mean_mpg)) +\n",
        "  geom_bar(stat='identity')  # 'identity' indicate values are the bar heights."
      ],
      "execution_count": 0,
      "outputs": [
        {
          "output_type": "display_data",
          "data": {
            "image/png": "[encoded data removed]",
            "text/plain": [
              "plot without title"
            ]
          },
          "metadata": {
            "tags": []
          }
        }
      ]
    },
    {
      "cell_type": "markdown",
      "metadata": {
        "id": "-jpCgIuDjX7n",
        "colab_type": "text"
      },
      "source": [
        "## Plotting Outliers\n",
        "This hides how varied `mpg` values are for each `cyl` group. We can represent this better by showing the distribution of each data point using different plots. Here we use a violin plot and dot plot."
      ]
    },
    {
      "cell_type": "code",
      "metadata": {
        "id": "OTK2OJJPjjLg",
        "colab_type": "code",
        "outputId": "a5241fdf-0ea2-46d1-c7e8-a851b631a7be",
        "colab": {
          "base_uri": "https://localhost:8080/",
          "height": 875
        }
      },
      "source": [
        "ggplot(mtcars, aes(x=cyl, y=mpg, group=cyl)) +\n",
        "  geom_violin() +  # Draw the shape of the distribution for each group.\n",
        "  geom_dotplot(binaxis='y', stackdir='center', dotsize=1) # Draw each point."
      ],
      "execution_count": 0,
      "outputs": [
        {
          "output_type": "stream",
          "text": [
            "`stat_bindot()` using `bins = 30`. Pick better value with `binwidth`.\n"
          ],
          "name": "stderr"
        },
        {
          "output_type": "display_data",
          "data": {
            "image/png": "[encoded data removed]",
            "text/plain": [
              "plot without title"
            ]
          },
          "metadata": {
            "tags": []
          }
        }
      ]
    },
    {
      "cell_type": "markdown",
      "metadata": {
        "id": "CHnkl7RVmp0P",
        "colab_type": "text"
      },
      "source": [
        "## Modeling\n",
        "After exploring the data through plots and aggregate functions, we can start generalizing our understanding of various relationships. For example, we saw as `wt` increases, `mpg` decreases. We can approximate that relationship with a linear model, `lm`."
      ]
    },
    {
      "cell_type": "code",
      "metadata": {
        "id": "6AekqrdVnS7r",
        "colab_type": "code",
        "outputId": "c6e558e3-698c-4e14-cc5c-2fe252d8abef",
        "colab": {
          "base_uri": "https://localhost:8080/",
          "height": 98
        }
      },
      "source": [
        "summary(lm(mpg ~ wt, mtcars))$coef  # Summarize the `mpg` ~ `wt` relationship. "
      ],
      "execution_count": 0,
      "outputs": [
        {
          "output_type": "display_data",
          "data": {
            "text/plain": [
              "            Estimate  Std. Error t value   Pr(>|t|)    \n",
              "(Intercept) 37.285126 1.877627   19.857575 8.241799e-19\n",
              "wt          -5.344472 0.559101   -9.559044 1.293959e-10"
            ],
            "text/latex": "A matrix: 2 × 4 of type dbl\n\\begin{tabular}{r|llll}\n  & Estimate & Std. Error & t value & Pr(>\\textbar{}t\\textbar{})\\\\\n\\hline\n\t(Intercept) & 37.285126 & 1.877627 & 19.857575 & 8.241799e-19\\\\\n\twt & -5.344472 & 0.559101 & -9.559044 & 1.293959e-10\\\\\n\\end{tabular}\n",
            "text/markdown": "\nA matrix: 2 × 4 of type dbl\n\n| <!--/--> | Estimate | Std. Error | t value | Pr(&gt;|t|) |\n|---|---|---|---|---|\n| (Intercept) | 37.285126 | 1.877627 | 19.857575 | 8.241799e-19 |\n| wt | -5.344472 | 0.559101 | -9.559044 | 1.293959e-10 |\n\n",
            "text/html": [
              "<table>\n",
              "<caption>A matrix: 2 × 4 of type dbl</caption>\n",
              "<thead>\n",
              "\t<tr><th></th><th scope=col>Estimate</th><th scope=col>Std. Error</th><th scope=col>t value</th><th scope=col>Pr(&gt;|t|)</th></tr>\n",
              "</thead>\n",
              "<tbody>\n",
              "\t<tr><th scope=row>(Intercept)</th><td>37.285126</td><td>1.877627</td><td>19.857575</td><td>8.241799e-19</td></tr>\n",
              "\t<tr><th scope=row>wt</th><td>-5.344472</td><td>0.559101</td><td>-9.559044</td><td>1.293959e-10</td></tr>\n",
              "</tbody>\n",
              "</table>\n"
            ]
          },
          "metadata": {
            "tags": []
          }
        }
      ]
    },
    {
      "cell_type": "markdown",
      "metadata": {
        "id": "I6ASxC_JoXks",
        "colab_type": "text"
      },
      "source": [
        "Looking at the [p-value](https://en.wikipedia.org/wiki/P-value), we can see the `mpg` and `wt` relationship is significant. For every 1000 pounds of weight, `mpg` drops by `5.344472`. The intercept indicates a hypothetical weightless car's `mpg` of `37.285126`.\n",
        "\n",
        "We can plot this linear model out on top of our data points for `mpg` and `wt` to see this correlation better."
      ]
    },
    {
      "cell_type": "code",
      "metadata": {
        "id": "ZAtCLqM2lIfA",
        "colab_type": "code",
        "outputId": "0b9403b5-5e05-4faa-b42a-a6620a0cea3f",
        "colab": {
          "base_uri": "https://localhost:8080/",
          "height": 857
        }
      },
      "source": [
        "ggplot(mtcars, aes(mpg, wt)) +\n",
        "  geom_point() +\n",
        "  geom_smooth(method = \"lm\", se=FALSE)"
      ],
      "execution_count": 0,
      "outputs": [
        {
          "output_type": "display_data",
          "data": {
            "image/png": "[encoded data removed]",
            "text/plain": [
              "plot without title"
            ]
          },
          "metadata": {
            "tags": []
          }
        }
      ]
    },
    {
      "cell_type": "markdown",
      "metadata": {
        "id": "8jzF4mcdqPiM",
        "colab_type": "text"
      },
      "source": [
        "## Confidence Intervals\n",
        "In the linear model above, we generalized a relationship with just a single value (e.g. `5.344472` loss in `mpg` for each 1000 pounds in `wt`). This can be misleading, and can be better represented using a range of values where we are fairly certain the true value lies.\n",
        "\n",
        "Let's revisit the problem above using `am`: the indicator of an automatic or manual transmission."
      ]
    },
    {
      "cell_type": "code",
      "metadata": {
        "id": "5r_IZhIzrNlZ",
        "colab_type": "code",
        "outputId": "1e47636a-f816-4578-f70e-77c7fe86c0d8",
        "colab": {
          "base_uri": "https://localhost:8080/",
          "height": 98
        }
      },
      "source": [
        "summary(lm(mpg ~ am, mtcars))$coef  # Summarize the `mpg` ~ `am` relationship. "
      ],
      "execution_count": 0,
      "outputs": [
        {
          "output_type": "display_data",
          "data": {
            "text/plain": [
              "            Estimate  Std. Error t value   Pr(>|t|)    \n",
              "(Intercept) 17.147368 1.124603   15.247492 1.133983e-15\n",
              "am           7.244939 1.764422    4.106127 2.850207e-04"
            ],
            "text/latex": "A matrix: 2 × 4 of type dbl\n\\begin{tabular}{r|llll}\n  & Estimate & Std. Error & t value & Pr(>\\textbar{}t\\textbar{})\\\\\n\\hline\n\t(Intercept) & 17.147368 & 1.124603 & 15.247492 & 1.133983e-15\\\\\n\tam &  7.244939 & 1.764422 &  4.106127 & 2.850207e-04\\\\\n\\end{tabular}\n",
            "text/markdown": "\nA matrix: 2 × 4 of type dbl\n\n| <!--/--> | Estimate | Std. Error | t value | Pr(&gt;|t|) |\n|---|---|---|---|---|\n| (Intercept) | 17.147368 | 1.124603 | 15.247492 | 1.133983e-15 |\n| am |  7.244939 | 1.764422 |  4.106127 | 2.850207e-04 |\n\n",
            "text/html": [
              "<table>\n",
              "<caption>A matrix: 2 × 4 of type dbl</caption>\n",
              "<thead>\n",
              "\t<tr><th></th><th scope=col>Estimate</th><th scope=col>Std. Error</th><th scope=col>t value</th><th scope=col>Pr(&gt;|t|)</th></tr>\n",
              "</thead>\n",
              "<tbody>\n",
              "\t<tr><th scope=row>(Intercept)</th><td>17.147368</td><td>1.124603</td><td>15.247492</td><td>1.133983e-15</td></tr>\n",
              "\t<tr><th scope=row>am</th><td> 7.244939</td><td>1.764422</td><td> 4.106127</td><td>2.850207e-04</td></tr>\n",
              "</tbody>\n",
              "</table>\n"
            ]
          },
          "metadata": {
            "tags": []
          }
        }
      ]
    },
    {
      "cell_type": "markdown",
      "metadata": {
        "id": "XOmUq9jcrsIG",
        "colab_type": "text"
      },
      "source": [
        "At face value, `mpg` decreases by `7.244939` for automatic cars. We can instead represent this difference in `mpg` using a range of values using a [t-test](https://en.wikipedia.org/wiki/Welch%27s_t-test) to define a 95% confidence interval -- the range in which we are 95% certain the true value lies. "
      ]
    },
    {
      "cell_type": "code",
      "metadata": {
        "id": "0JmFbiyqsEjr",
        "colab_type": "code",
        "outputId": "66446b46-e32d-4bcc-9781-f6fb78d788cf",
        "colab": {
          "base_uri": "https://localhost:8080/",
          "height": 222
        }
      },
      "source": [
        "t.test(  # Do a t-test comparing\n",
        "  mtcars[mtcars$am == 1,]$mpg,  # the `mpg` of cars using an auto transmission\n",
        "  mtcars[mtcars$am == 0,]$mpg)  # the `mpg` of cars using a manual transmission"
      ],
      "execution_count": 0,
      "outputs": [
        {
          "output_type": "display_data",
          "data": {
            "text/plain": [
              "\n",
              "\tWelch Two Sample t-test\n",
              "\n",
              "data:  mtcars[mtcars$am == 1, ]$mpg and mtcars[mtcars$am == 0, ]$mpg\n",
              "t = 3.7671, df = 18.332, p-value = 0.001374\n",
              "alternative hypothesis: true difference in means is not equal to 0\n",
              "95 percent confidence interval:\n",
              "  3.209684 11.280194\n",
              "sample estimates:\n",
              "mean of x mean of y \n",
              " 24.39231  17.14737 \n"
            ]
          },
          "metadata": {
            "tags": []
          }
        }
      ]
    },
    {
      "cell_type": "markdown",
      "metadata": {
        "id": "CdA_J53ws5SH",
        "colab_type": "text"
      },
      "source": [
        "Here we can see the mean `mpg` for manual cars is `24.39231` compared to `17.14737` for automatic cars, and we are 95% confident the difference in `mpg` is between `3.209684` and `11.280194`. The estimate of `7.244939` above fits snuggly in the middle of this range."
      ]
    },
    {
      "cell_type": "markdown",
      "metadata": {
        "id": "CfT5k3pt7EGY",
        "colab_type": "text"
      },
      "source": [
        "# Unit 2: Querying Data\n",
        "\n",
        "Now that we have the basics, let's learn how to access data from various sources used by most data practitioners such as databases and data files."
      ]
    },
    {
      "cell_type": "markdown",
      "metadata": {
        "id": "EZAOZIaDE3Qu",
        "colab_type": "text"
      },
      "source": [
        "## Databases\n",
        "\n",
        "Most modern systems store data in database tables, highly efficient storage structures that allow for very fast access for extremely large data sets. In this section, we'll try querying data from a test database, `mammals`."
      ]
    },
    {
      "cell_type": "code",
      "metadata": {
        "id": "gu_DXCtZBsn2",
        "colab_type": "code",
        "cellView": "form",
        "outputId": "a8438c85-e772-4827-ea7b-b9784554046b",
        "colab": {
          "base_uri": "https://localhost:8080/",
          "height": 91
        }
      },
      "source": [
        "#@title Setup 'mammals' database (~5 minutes to run)\n",
        "install.packages(c(\"dbplyr\", \"RSQLite\",\"RMariaDB\"))\n",
        "library(dplyr)\n",
        "library(dbplyr)\n",
        "dir.create(\"data_raw\", showWarnings = FALSE)\n",
        "download.file(url = \"https://ndownloader.figshare.com/files/2292171\",\n",
        "              destfile = \"data_raw/portal_mammals.sqlite\", mode = \"wb\")\n",
        "mammals <- DBI::dbConnect(RSQLite::SQLite(), \"data_raw/portal_mammals.sqlite\")"
      ],
      "execution_count": 0,
      "outputs": [
        {
          "output_type": "stream",
          "text": [
            "Installing packages into ‘/usr/local/lib/R/site-library’\n",
            "(as ‘lib’ is unspecified)\n",
            "Warning message in install.packages(c(\"dbplyr\", \"RSQLite\", \"RMariaDB\")):\n",
            "“installation of package ‘RMariaDB’ had non-zero exit status”"
          ],
          "name": "stderr"
        }
      ]
    },
    {
      "cell_type": "markdown",
      "metadata": {
        "id": "M4W928GqGDqM",
        "colab_type": "text"
      },
      "source": [
        "### Query Everything\n",
        "\n",
        "The most basic query is simply pulling _everything_ from a table. Here we do this, but just get the first `10` rows using the `LIMIT` keyword."
      ]
    },
    {
      "cell_type": "code",
      "metadata": {
        "id": "jJg2iYOPF9nZ",
        "colab_type": "code",
        "outputId": "6e2ba600-43fd-4841-93e6-6d95d326c8eb",
        "colab": {
          "base_uri": "https://localhost:8080/",
          "height": 284
        }
      },
      "source": [
        "# Use the tbl() command in conjunction with a database source ('mammals' here)\n",
        "# and your query (represented by `sql_query_1`)\n",
        "sql_query_1 <- sql(\"SELECT * FROM surveys\")\n",
        "tbl(mammals, sql_query_1)"
      ],
      "execution_count": 63,
      "outputs": [
        {
          "output_type": "display_data",
          "data": {
            "text/plain": [
              "\u001b[90m# Source:   SQL [?? x 9]\u001b[39m\n",
              "\u001b[90m# Database: sqlite 3.29.0 [/content/data_raw/portal_mammals.sqlite]\u001b[39m\n",
              "   record_id month   day  year plot_id species_id sex   hindfoot_length weight\n",
              "       \u001b[3m\u001b[90m<int>\u001b[39m\u001b[23m \u001b[3m\u001b[90m<int>\u001b[39m\u001b[23m \u001b[3m\u001b[90m<int>\u001b[39m\u001b[23m \u001b[3m\u001b[90m<int>\u001b[39m\u001b[23m   \u001b[3m\u001b[90m<int>\u001b[39m\u001b[23m \u001b[3m\u001b[90m<chr>\u001b[39m\u001b[23m      \u001b[3m\u001b[90m<chr>\u001b[39m\u001b[23m           \u001b[3m\u001b[90m<int>\u001b[39m\u001b[23m  \u001b[3m\u001b[90m<int>\u001b[39m\u001b[23m\n",
              "\u001b[90m 1\u001b[39m         1     7    16  \u001b[4m1\u001b[24m977       2 NL         M                  32     \u001b[31mNA\u001b[39m\n",
              "\u001b[90m 2\u001b[39m         2     7    16  \u001b[4m1\u001b[24m977       3 NL         M                  33     \u001b[31mNA\u001b[39m\n",
              "\u001b[90m 3\u001b[39m         3     7    16  \u001b[4m1\u001b[24m977       2 DM         F                  37     \u001b[31mNA\u001b[39m\n",
              "\u001b[90m 4\u001b[39m         4     7    16  \u001b[4m1\u001b[24m977       7 DM         M                  36     \u001b[31mNA\u001b[39m\n",
              "\u001b[90m 5\u001b[39m         5     7    16  \u001b[4m1\u001b[24m977       3 DM         M                  35     \u001b[31mNA\u001b[39m\n",
              "\u001b[90m 6\u001b[39m         6     7    16  \u001b[4m1\u001b[24m977       1 PF         M                  14     \u001b[31mNA\u001b[39m\n",
              "\u001b[90m 7\u001b[39m         7     7    16  \u001b[4m1\u001b[24m977       2 PE         F                  \u001b[31mNA\u001b[39m     \u001b[31mNA\u001b[39m\n",
              "\u001b[90m 8\u001b[39m         8     7    16  \u001b[4m1\u001b[24m977       1 DM         M                  37     \u001b[31mNA\u001b[39m\n",
              "\u001b[90m 9\u001b[39m         9     7    16  \u001b[4m1\u001b[24m977       1 DM         F                  34     \u001b[31mNA\u001b[39m\n",
              "\u001b[90m10\u001b[39m        10     7    16  \u001b[4m1\u001b[24m977       6 PF         F                  20     \u001b[31mNA\u001b[39m\n",
              "\u001b[90m# … with more rows\u001b[39m"
            ]
          },
          "metadata": {
            "tags": []
          }
        }
      ]
    },
    {
      "cell_type": "markdown",
      "metadata": {
        "id": "vAJjeGu_RSNr",
        "colab_type": "text"
      },
      "source": [
        "The `SELECT` statement above indicates which fields (columns) of data you want to pull. `FROM` indicates which table you are querying. Together, the two statements succinctly indicate you are selecting _all_ fields (indicated by `SELECT *`) from the `surveys` table.\n",
        "\n",
        "### Query Using `dplyr`\n",
        "\n",
        "This lesson won't get into SQL too deeply. Please check out tutorials such as [W3Schools](https://www.w3schools.com/sql/) to learn more. Instead, we'll rely on `dplyr` (described [above](#scrollTo=Z3U9VAdiZATB)) to navigate our database table.\n",
        "\n",
        "Below, let's get all the mammals with `weight < 5`, pulling their `species_id, sex, weight`."
      ]
    },
    {
      "cell_type": "code",
      "metadata": {
        "id": "BlUSFbd3O5Lz",
        "colab_type": "code",
        "colab": {
          "base_uri": "https://localhost:8080/",
          "height": 416
        },
        "outputId": "a8050b40-80ee-48c5-9f45-4419db262b08"
      },
      "source": [
        "# Store the `surveys` table as a dataframe that we can access like above\n",
        "surveys <- tbl(mammals, \"surveys\") %>% as.data.frame\n",
        "surveys %>%\n",
        "  filter(weight < 5) %>%\n",
        "  select(species_id, sex, weight)"
      ],
      "execution_count": 76,
      "outputs": [
        {
          "output_type": "display_data",
          "data": {
            "text/plain": [
              "   species_id sex weight\n",
              "1  PF         M   4     \n",
              "2  PF         F   4     \n",
              "3  PF         NA  4     \n",
              "4  PF         F   4     \n",
              "5  PF         F   4     \n",
              "6  RM         M   4     \n",
              "7  RM         F   4     \n",
              "8  RM         M   4     \n",
              "9  RM         M   4     \n",
              "10 RM         M   4     \n",
              "11 RM         M   4     \n",
              "12 RM         F   4     \n",
              "13 RM         M   4     \n",
              "14 RM         M   4     \n",
              "15 RM         M   4     \n",
              "16 PF         M   4     \n",
              "17 PP         M   4     "
            ],
            "text/latex": "A data.frame: 17 × 3\n\\begin{tabular}{r|lll}\n species\\_id & sex & weight\\\\\n <chr> & <chr> & <int>\\\\\n\\hline\n\t PF & M  & 4\\\\\n\t PF & F  & 4\\\\\n\t PF & NA & 4\\\\\n\t PF & F  & 4\\\\\n\t PF & F  & 4\\\\\n\t RM & M  & 4\\\\\n\t RM & F  & 4\\\\\n\t RM & M  & 4\\\\\n\t RM & M  & 4\\\\\n\t RM & M  & 4\\\\\n\t RM & M  & 4\\\\\n\t RM & F  & 4\\\\\n\t RM & M  & 4\\\\\n\t RM & M  & 4\\\\\n\t RM & M  & 4\\\\\n\t PF & M  & 4\\\\\n\t PP & M  & 4\\\\\n\\end{tabular}\n",
            "text/markdown": "\nA data.frame: 17 × 3\n\n| species_id &lt;chr&gt; | sex &lt;chr&gt; | weight &lt;int&gt; |\n|---|---|---|\n| PF | M  | 4 |\n| PF | F  | 4 |\n| PF | NA | 4 |\n| PF | F  | 4 |\n| PF | F  | 4 |\n| RM | M  | 4 |\n| RM | F  | 4 |\n| RM | M  | 4 |\n| RM | M  | 4 |\n| RM | M  | 4 |\n| RM | M  | 4 |\n| RM | F  | 4 |\n| RM | M  | 4 |\n| RM | M  | 4 |\n| RM | M  | 4 |\n| PF | M  | 4 |\n| PP | M  | 4 |\n\n",
            "text/html": [
              "<table>\n",
              "<caption>A data.frame: 17 × 3</caption>\n",
              "<thead>\n",
              "\t<tr><th scope=col>species_id</th><th scope=col>sex</th><th scope=col>weight</th></tr>\n",
              "\t<tr><th scope=col>&lt;chr&gt;</th><th scope=col>&lt;chr&gt;</th><th scope=col>&lt;int&gt;</th></tr>\n",
              "</thead>\n",
              "<tbody>\n",
              "\t<tr><td>PF</td><td>M </td><td>4</td></tr>\n",
              "\t<tr><td>PF</td><td>F </td><td>4</td></tr>\n",
              "\t<tr><td>PF</td><td>NA</td><td>4</td></tr>\n",
              "\t<tr><td>PF</td><td>F </td><td>4</td></tr>\n",
              "\t<tr><td>PF</td><td>F </td><td>4</td></tr>\n",
              "\t<tr><td>RM</td><td>M </td><td>4</td></tr>\n",
              "\t<tr><td>RM</td><td>F </td><td>4</td></tr>\n",
              "\t<tr><td>RM</td><td>M </td><td>4</td></tr>\n",
              "\t<tr><td>RM</td><td>M </td><td>4</td></tr>\n",
              "\t<tr><td>RM</td><td>M </td><td>4</td></tr>\n",
              "\t<tr><td>RM</td><td>M </td><td>4</td></tr>\n",
              "\t<tr><td>RM</td><td>F </td><td>4</td></tr>\n",
              "\t<tr><td>RM</td><td>M </td><td>4</td></tr>\n",
              "\t<tr><td>RM</td><td>M </td><td>4</td></tr>\n",
              "\t<tr><td>RM</td><td>M </td><td>4</td></tr>\n",
              "\t<tr><td>PF</td><td>M </td><td>4</td></tr>\n",
              "\t<tr><td>PP</td><td>M </td><td>4</td></tr>\n",
              "</tbody>\n",
              "</table>\n"
            ]
          },
          "metadata": {
            "tags": []
          }
        }
      ]
    },
    {
      "cell_type": "markdown",
      "metadata": {
        "id": "EK2IbBqrAHfE",
        "colab_type": "text"
      },
      "source": [
        "Now that you have a data frame loaded into `df`, try all of the above using the skills your learned before!"
      ]
    },
    {
      "cell_type": "markdown",
      "metadata": {
        "id": "vLD2tkblt-D-",
        "colab_type": "text"
      },
      "source": [
        "## Comma Separated Values (CSVs)\n",
        "\n",
        "Sample data is good to learn, but let's try pulling data from your own data source. Data typically lives in giant database table, but it can sometimes live as tabular data in CSV files.\n",
        "\n",
        "Below is input recording Trik or Treaters by time. Try replacing `raw_data` with your own data. Copy from your own spreadsheet (including the header row) and paste it into `raw_input`."
      ]
    },
    {
      "cell_type": "code",
      "metadata": {
        "id": "Yb15i_qIuLoh",
        "colab_type": "code",
        "outputId": "29c6faeb-f2b6-42f4-8de1-398e8c02b846",
        "colab": {
          "base_uri": "https://localhost:8080/",
          "height": 595
        }
      },
      "source": [
        "# Copy from a spreadsheet of your choice (with the header row).\n",
        "# Paste it between the quotes brackets below.\n",
        "raw_input <- '\n",
        "Time\tguests\n",
        "17:45\t3\n",
        "17:50\t4\n",
        "18:00\t1\n",
        "18:16\t2\n",
        "18:27\t2\n",
        "18:28\t1\n",
        "18:38\t5\n",
        "18:44\t8\n",
        "18:47\t2\n",
        "18:48\t5\n",
        "18:49\t1\n",
        "19:00\t6\n",
        "19:04\t2\n",
        "19:18\t4\n",
        "19:29\t3\n",
        "19:31\t2\n",
        "19:37\t1\n",
        "19:43\t3\n",
        "19:45\t2\n",
        "19:49\t6\n",
        "19:54\t2\n",
        "19:57\t2\n",
        "19:59\t1\n",
        "20:04\t3\n",
        "20:06\t2\n",
        "20:11\t1\n",
        "20:15\t4\n",
        "20:22\t2\n",
        "20:30\t6\n",
        "20:53\t4'\n",
        "\n",
        "df <- read.table(text=raw_input, sep=\"\\t\", header=TRUE)\n",
        "print(df)"
      ],
      "execution_count": 0,
      "outputs": [
        {
          "output_type": "stream",
          "text": [
            "    Time guests\n",
            "1  17:45      3\n",
            "2  17:50      4\n",
            "3  18:00      1\n",
            "4  18:16      2\n",
            "5  18:27      2\n",
            "6  18:28      1\n",
            "7  18:38      5\n",
            "8  18:44      8\n",
            "9  18:47      2\n",
            "10 18:48      5\n",
            "11 18:49      1\n",
            "12 19:00      6\n",
            "13 19:04      2\n",
            "14 19:18      4\n",
            "15 19:29      3\n",
            "16 19:31      2\n",
            "17 19:37      1\n",
            "18 19:43      3\n",
            "19 19:45      2\n",
            "20 19:49      6\n",
            "21 19:54      2\n",
            "22 19:57      2\n",
            "23 19:59      1\n",
            "24 20:04      3\n",
            "25 20:06      2\n",
            "26 20:11      1\n",
            "27 20:15      4\n",
            "28 20:22      2\n",
            "29 20:30      6\n",
            "30 20:53      4\n"
          ],
          "name": "stdout"
        }
      ]
    },
    {
      "cell_type": "markdown",
      "metadata": {
        "id": "66zWyURKU4SZ",
        "colab_type": "text"
      },
      "source": [
        "# Unit 3: Exercises & Solutions\n",
        "\n",
        "Let's put it all together by reproducing `Unit 1` examples on the real data we started querying from `Unit 2` (i.e. `surveys`)."
      ]
    },
    {
      "cell_type": "markdown",
      "metadata": {
        "id": "u4BruzY-XboB",
        "colab_type": "text"
      },
      "source": [
        "## Exercises"
      ]
    },
    {
      "cell_type": "code",
      "metadata": {
        "id": "hPvkyeyVV1RF",
        "colab_type": "code",
        "colab": {}
      },
      "source": [
        "#@title Exercise 1\n",
        "# Describe the columns, data types, sample values, and table size."
      ],
      "execution_count": 0,
      "outputs": []
    },
    {
      "cell_type": "code",
      "metadata": {
        "colab_type": "code",
        "id": "7BsgdKiaW6Du",
        "colab": {}
      },
      "source": [
        "#@title Exercise 2\n",
        "# List summary statistics for all fields."
      ],
      "execution_count": 0,
      "outputs": []
    },
    {
      "cell_type": "code",
      "metadata": {
        "id": "fDIHxgExXjFG",
        "colab_type": "code",
        "colab": {}
      },
      "source": [
        "#@title Exercise 3\n",
        "# Plot a histogram of hindfoot_length."
      ],
      "execution_count": 0,
      "outputs": []
    },
    {
      "cell_type": "code",
      "metadata": {
        "id": "2_JmasIJYGNI",
        "colab_type": "code",
        "colab": {}
      },
      "source": [
        "#@title Exercise 4\n",
        "# Filter `surveys` on values where hindfoot_length is greater than 0."
      ],
      "execution_count": 0,
      "outputs": []
    },
    {
      "cell_type": "code",
      "metadata": {
        "id": "aZ1sETbhbOVf",
        "colab_type": "code",
        "colab": {}
      },
      "source": [
        "#@title Exercise 5\n",
        "# Plot a histogram of `surveys` on values where hindfoot_length are\n",
        "# greater than 0."
      ],
      "execution_count": 0,
      "outputs": []
    },
    {
      "cell_type": "code",
      "metadata": {
        "id": "1oaGYSPWdGYl",
        "colab_type": "code",
        "colab": {}
      },
      "source": [
        "#@title Exercise 6\n",
        "# Get the average weight.\n",
        "# Hint: you may need to filter out weights that don't exist\n",
        "# (i.e. where weight <= 0)."
      ],
      "execution_count": 0,
      "outputs": []
    },
    {
      "cell_type": "code",
      "metadata": {
        "id": "UjlPd-X0c0Py",
        "colab_type": "code",
        "colab": {}
      },
      "source": [
        "#@title Exercise 7\n",
        "# Get the average weight by sex."
      ],
      "execution_count": 0,
      "outputs": []
    },
    {
      "cell_type": "code",
      "metadata": {
        "id": "0tZGcDjUdiX9",
        "colab_type": "code",
        "colab": {}
      },
      "source": [
        "#@title Exercise 8\n",
        "# Plot the average weight by sex as a histogram."
      ],
      "execution_count": 0,
      "outputs": []
    },
    {
      "cell_type": "code",
      "metadata": {
        "id": "GROKEvGYeKHy",
        "colab_type": "code",
        "colab": {}
      },
      "source": [
        "#@title Exercise 9\n",
        "# Plot a boxplot of weight by sex."
      ],
      "execution_count": 0,
      "outputs": []
    },
    {
      "cell_type": "code",
      "metadata": {
        "id": "g3x2la3Jep6f",
        "colab_type": "code",
        "colab": {}
      },
      "source": [
        "#@title Exercise 10\n",
        "# Model the relationship between weight and hindfoot_length using a\n",
        "# linear regression, identifying the coefficient."
      ],
      "execution_count": 0,
      "outputs": []
    },
    {
      "cell_type": "code",
      "metadata": {
        "id": "f_h2x-UMfMNE",
        "colab_type": "code",
        "colab": {}
      },
      "source": [
        "#@title Exercise 11\n",
        "# Plot the relationship between weight and hindfoot_length using a\n",
        "# linear regression."
      ],
      "execution_count": 0,
      "outputs": []
    },
    {
      "cell_type": "code",
      "metadata": {
        "id": "DGT6itnogGPg",
        "colab_type": "code",
        "colab": {}
      },
      "source": [
        "#@title Exercise 12\n",
        "# Use a t-test to determine the difference in weight between males\n",
        "# and females. How much heavier are males 95% of the time?"
      ],
      "execution_count": 0,
      "outputs": []
    },
    {
      "cell_type": "markdown",
      "metadata": {
        "id": "F05905NsWt9f",
        "colab_type": "text"
      },
      "source": [
        "## Solutions"
      ]
    },
    {
      "cell_type": "code",
      "metadata": {
        "id": "afT-UvOdWfaZ",
        "colab_type": "code",
        "colab": {
          "base_uri": "https://localhost:8080/",
          "height": 195
        },
        "outputId": "2ec8fb97-f179-478b-f1e8-a72da01ea47e"
      },
      "source": [
        "#@title Solution 1\n",
        "str(surveys)"
      ],
      "execution_count": 79,
      "outputs": [
        {
          "output_type": "stream",
          "text": [
            "'data.frame':\t35549 obs. of  9 variables:\n",
            " $ record_id      : int  1 2 3 4 5 6 7 8 9 10 ...\n",
            " $ month          : int  7 7 7 7 7 7 7 7 7 7 ...\n",
            " $ day            : int  16 16 16 16 16 16 16 16 16 16 ...\n",
            " $ year           : int  1977 1977 1977 1977 1977 1977 1977 1977 1977 1977 ...\n",
            " $ plot_id        : int  2 3 2 7 3 1 2 1 1 6 ...\n",
            " $ species_id     : chr  \"NL\" \"NL\" \"DM\" \"DM\" ...\n",
            " $ sex            : chr  \"M\" \"M\" \"F\" \"M\" ...\n",
            " $ hindfoot_length: int  32 33 37 36 35 14 NA 37 34 20 ...\n",
            " $ weight         : int  NA NA NA NA NA NA NA NA NA NA ...\n"
          ],
          "name": "stdout"
        }
      ]
    },
    {
      "cell_type": "code",
      "metadata": {
        "id": "oWaNB-moXPBE",
        "colab_type": "code",
        "colab": {
          "base_uri": "https://localhost:8080/",
          "height": 301
        },
        "outputId": "e4cfca26-4290-47bc-ef24-92ddcd14ed5b"
      },
      "source": [
        "#@title Solution 2\n",
        "summary(surveys)"
      ],
      "execution_count": 81,
      "outputs": [
        {
          "output_type": "display_data",
          "data": {
            "text/plain": [
              "   record_id         month             day             year         plot_id    \n",
              " Min.   :    1   Min.   : 1.000   Min.   : 1.00   Min.   :1977   Min.   : 1.0  \n",
              " 1st Qu.: 8888   1st Qu.: 4.000   1st Qu.: 9.00   1st Qu.:1984   1st Qu.: 5.0  \n",
              " Median :17775   Median : 6.000   Median :16.00   Median :1990   Median :11.0  \n",
              " Mean   :17775   Mean   : 6.474   Mean   :16.11   Mean   :1990   Mean   :11.4  \n",
              " 3rd Qu.:26662   3rd Qu.: 9.000   3rd Qu.:23.00   3rd Qu.:1997   3rd Qu.:17.0  \n",
              " Max.   :35549   Max.   :12.000   Max.   :31.00   Max.   :2002   Max.   :24.0  \n",
              "                                                                               \n",
              "  species_id            sex            hindfoot_length     weight      \n",
              " Length:35549       Length:35549       Min.   : 2.00   Min.   :  4.00  \n",
              " Class :character   Class :character   1st Qu.:21.00   1st Qu.: 20.00  \n",
              " Mode  :character   Mode  :character   Median :32.00   Median : 37.00  \n",
              "                                       Mean   :29.29   Mean   : 42.67  \n",
              "                                       3rd Qu.:36.00   3rd Qu.: 48.00  \n",
              "                                       Max.   :70.00   Max.   :280.00  \n",
              "                                       NA's   :4111    NA's   :3266    "
            ]
          },
          "metadata": {
            "tags": []
          }
        }
      ]
    },
    {
      "cell_type": "code",
      "metadata": {
        "id": "Z9ZKb0qkXwDO",
        "colab_type": "code",
        "colab": {
          "base_uri": "https://localhost:8080/",
          "height": 910
        },
        "outputId": "98124a19-a566-469a-fbd6-7fcbfd3c4de7"
      },
      "source": [
        "#@title Solution 3\n",
        "ggplot(surveys,aes(x=hindfoot_length)) +  # Create a new plot.\n",
        "  geom_histogram()  # Add a histogram to the plot, grouping mpg by 5."
      ],
      "execution_count": 88,
      "outputs": [
        {
          "output_type": "stream",
          "text": [
            "`stat_bin()` using `bins = 30`. Pick better value with `binwidth`.\n",
            "Warning message:\n",
            "“Removed 4111 rows containing non-finite values (stat_bin).”"
          ],
          "name": "stderr"
        },
        {
          "output_type": "display_data",
          "data": {
            "image/png": "[encoded data removed]",
            "text/plain": [
              "plot without title"
            ]
          },
          "metadata": {
            "tags": []
          }
        }
      ]
    },
    {
      "cell_type": "code",
      "metadata": {
        "id": "f5De4AUZYarf",
        "colab_type": "code",
        "colab": {
          "base_uri": "https://localhost:8080/",
          "height": 1000
        },
        "outputId": "ddf3f13a-73ee-490c-c61b-8bdee73d45a2"
      },
      "source": [
        "#@title Solution 4\n",
        "surveys %>% filter(hindfoot_length > 0)"
      ],
      "execution_count": 85,
      "outputs": [
        {
          "output_type": "display_data",
          "data": {
            "text/plain": [
              "      record_id month day year plot_id species_id sex hindfoot_length weight\n",
              "1      1        7     16  1977  2      NL         M   32              NA    \n",
              "2      2        7     16  1977  3      NL         M   33              NA    \n",
              "3      3        7     16  1977  2      DM         F   37              NA    \n",
              "4      4        7     16  1977  7      DM         M   36              NA    \n",
              "5      5        7     16  1977  3      DM         M   35              NA    \n",
              "6      6        7     16  1977  1      PF         M   14              NA    \n",
              "7      8        7     16  1977  1      DM         M   37              NA    \n",
              "8      9        7     16  1977  1      DM         F   34              NA    \n",
              "9     10        7     16  1977  6      PF         F   20              NA    \n",
              "10    11        7     16  1977  5      DS         F   53              NA    \n",
              "11    12        7     16  1977  7      DM         M   38              NA    \n",
              "12    13        7     16  1977  3      DM         M   35              NA    \n",
              "13    15        7     16  1977  6      DM         F   36              NA    \n",
              "14    16        7     16  1977  4      DM         F   36              NA    \n",
              "15    17        7     16  1977  3      DS         F   48              NA    \n",
              "16    18        7     16  1977  2      PP         M   22              NA    \n",
              "17    20        7     17  1977 11      DS         F   48              NA    \n",
              "18    21        7     17  1977 14      DM         F   34              NA    \n",
              "19    22        7     17  1977 15      NL         F   31              NA    \n",
              "20    23        7     17  1977 13      DM         M   36              NA    \n",
              "21    24        7     17  1977 13      SH         M   21              NA    \n",
              "22    25        7     17  1977  9      DM         M   35              NA    \n",
              "23    26        7     17  1977 15      DM         M   31              NA    \n",
              "24    27        7     17  1977 15      DM         M   36              NA    \n",
              "25    28        7     17  1977 11      DM         M   38              NA    \n",
              "26    30        7     17  1977 10      DS         F   52              NA    \n",
              "27    31        7     17  1977 15      DM         F   37              NA    \n",
              "28    32        7     17  1977 10      DM         F   35              NA    \n",
              "29    33        7     17  1977 11      DM         F   36              NA    \n",
              "30    35        7     17  1977 13      DM         F   38              NA    \n",
              "⋮     ⋮         ⋮     ⋮   ⋮    ⋮       ⋮          ⋮   ⋮               ⋮     \n",
              "31409 35515     12    31  2002 11      SF         F   27              NA    \n",
              "31410 35516     12    31  2002 11      DO         F   35              52    \n",
              "31411 35517     12    31  2002 11      DM         F   36              42    \n",
              "31412 35518     12    31  2002 11      DO         M   36              38    \n",
              "31413 35519     12    31  2002  9      DM         M   37              49    \n",
              "31414 35520     12    31  2002  9      SF         NA  24              36    \n",
              "31415 35521     12    31  2002  9      DM         M   37              48    \n",
              "31416 35522     12    31  2002  9      DM         F   35              45    \n",
              "31417 35523     12    31  2002  9      DM         F   36              44    \n",
              "31418 35524     12    31  2002  9      PB         F   25              27    \n",
              "31419 35525     12    31  2002  9      OL         M   21              26    \n",
              "31420 35526     12    31  2002  8      OT         F   20              24    \n",
              "31421 35527     12    31  2002 13      DO         F   33              43    \n",
              "31422 35529     12    31  2002 13      PB         F   25              25    \n",
              "31423 35530     12    31  2002 13      OT         F   20              NA    \n",
              "31424 35531     12    31  2002 13      PB         F   27              NA    \n",
              "31425 35532     12    31  2002 14      DM         F   34              43    \n",
              "31426 35533     12    31  2002 14      DM         F   36              48    \n",
              "31427 35534     12    31  2002 14      DM         M   37              56    \n",
              "31428 35535     12    31  2002 14      DM         M   37              53    \n",
              "31429 35536     12    31  2002 14      DM         F   35              42    \n",
              "31430 35537     12    31  2002 14      DM         F   36              46    \n",
              "31431 35538     12    31  2002 15      PB         F   26              31    \n",
              "31432 35539     12    31  2002 15      SF         M   26              68    \n",
              "31433 35540     12    31  2002 15      PB         F   26              23    \n",
              "31434 35541     12    31  2002 15      PB         F   24              31    \n",
              "31435 35542     12    31  2002 15      PB         F   26              29    \n",
              "31436 35543     12    31  2002 15      PB         F   27              34    \n",
              "31437 35547     12    31  2002 10      RM         F   15              14    \n",
              "31438 35548     12    31  2002  7      DO         M   36              51    "
            ],
            "text/latex": "A data.frame: 31438 × 9\n\\begin{tabular}{r|lllllllll}\n record\\_id & month & day & year & plot\\_id & species\\_id & sex & hindfoot\\_length & weight\\\\\n <int> & <int> & <int> & <int> & <int> & <chr> & <chr> & <int> & <int>\\\\\n\\hline\n\t  1 & 7 & 16 & 1977 &  2 & NL & M & 32 & NA\\\\\n\t  2 & 7 & 16 & 1977 &  3 & NL & M & 33 & NA\\\\\n\t  3 & 7 & 16 & 1977 &  2 & DM & F & 37 & NA\\\\\n\t  4 & 7 & 16 & 1977 &  7 & DM & M & 36 & NA\\\\\n\t  5 & 7 & 16 & 1977 &  3 & DM & M & 35 & NA\\\\\n\t  6 & 7 & 16 & 1977 &  1 & PF & M & 14 & NA\\\\\n\t  8 & 7 & 16 & 1977 &  1 & DM & M & 37 & NA\\\\\n\t  9 & 7 & 16 & 1977 &  1 & DM & F & 34 & NA\\\\\n\t 10 & 7 & 16 & 1977 &  6 & PF & F & 20 & NA\\\\\n\t 11 & 7 & 16 & 1977 &  5 & DS & F & 53 & NA\\\\\n\t 12 & 7 & 16 & 1977 &  7 & DM & M & 38 & NA\\\\\n\t 13 & 7 & 16 & 1977 &  3 & DM & M & 35 & NA\\\\\n\t 15 & 7 & 16 & 1977 &  6 & DM & F & 36 & NA\\\\\n\t 16 & 7 & 16 & 1977 &  4 & DM & F & 36 & NA\\\\\n\t 17 & 7 & 16 & 1977 &  3 & DS & F & 48 & NA\\\\\n\t 18 & 7 & 16 & 1977 &  2 & PP & M & 22 & NA\\\\\n\t 20 & 7 & 17 & 1977 & 11 & DS & F & 48 & NA\\\\\n\t 21 & 7 & 17 & 1977 & 14 & DM & F & 34 & NA\\\\\n\t 22 & 7 & 17 & 1977 & 15 & NL & F & 31 & NA\\\\\n\t 23 & 7 & 17 & 1977 & 13 & DM & M & 36 & NA\\\\\n\t 24 & 7 & 17 & 1977 & 13 & SH & M & 21 & NA\\\\\n\t 25 & 7 & 17 & 1977 &  9 & DM & M & 35 & NA\\\\\n\t 26 & 7 & 17 & 1977 & 15 & DM & M & 31 & NA\\\\\n\t 27 & 7 & 17 & 1977 & 15 & DM & M & 36 & NA\\\\\n\t 28 & 7 & 17 & 1977 & 11 & DM & M & 38 & NA\\\\\n\t 30 & 7 & 17 & 1977 & 10 & DS & F & 52 & NA\\\\\n\t 31 & 7 & 17 & 1977 & 15 & DM & F & 37 & NA\\\\\n\t 32 & 7 & 17 & 1977 & 10 & DM & F & 35 & NA\\\\\n\t 33 & 7 & 17 & 1977 & 11 & DM & F & 36 & NA\\\\\n\t 35 & 7 & 17 & 1977 & 13 & DM & F & 38 & NA\\\\\n\t ⋮ & ⋮ & ⋮ & ⋮ & ⋮ & ⋮ & ⋮ & ⋮ & ⋮\\\\\n\t 35515 & 12 & 31 & 2002 & 11 & SF & F  & 27 & NA\\\\\n\t 35516 & 12 & 31 & 2002 & 11 & DO & F  & 35 & 52\\\\\n\t 35517 & 12 & 31 & 2002 & 11 & DM & F  & 36 & 42\\\\\n\t 35518 & 12 & 31 & 2002 & 11 & DO & M  & 36 & 38\\\\\n\t 35519 & 12 & 31 & 2002 &  9 & DM & M  & 37 & 49\\\\\n\t 35520 & 12 & 31 & 2002 &  9 & SF & NA & 24 & 36\\\\\n\t 35521 & 12 & 31 & 2002 &  9 & DM & M  & 37 & 48\\\\\n\t 35522 & 12 & 31 & 2002 &  9 & DM & F  & 35 & 45\\\\\n\t 35523 & 12 & 31 & 2002 &  9 & DM & F  & 36 & 44\\\\\n\t 35524 & 12 & 31 & 2002 &  9 & PB & F  & 25 & 27\\\\\n\t 35525 & 12 & 31 & 2002 &  9 & OL & M  & 21 & 26\\\\\n\t 35526 & 12 & 31 & 2002 &  8 & OT & F  & 20 & 24\\\\\n\t 35527 & 12 & 31 & 2002 & 13 & DO & F  & 33 & 43\\\\\n\t 35529 & 12 & 31 & 2002 & 13 & PB & F  & 25 & 25\\\\\n\t 35530 & 12 & 31 & 2002 & 13 & OT & F  & 20 & NA\\\\\n\t 35531 & 12 & 31 & 2002 & 13 & PB & F  & 27 & NA\\\\\n\t 35532 & 12 & 31 & 2002 & 14 & DM & F  & 34 & 43\\\\\n\t 35533 & 12 & 31 & 2002 & 14 & DM & F  & 36 & 48\\\\\n\t 35534 & 12 & 31 & 2002 & 14 & DM & M  & 37 & 56\\\\\n\t 35535 & 12 & 31 & 2002 & 14 & DM & M  & 37 & 53\\\\\n\t 35536 & 12 & 31 & 2002 & 14 & DM & F  & 35 & 42\\\\\n\t 35537 & 12 & 31 & 2002 & 14 & DM & F  & 36 & 46\\\\\n\t 35538 & 12 & 31 & 2002 & 15 & PB & F  & 26 & 31\\\\\n\t 35539 & 12 & 31 & 2002 & 15 & SF & M  & 26 & 68\\\\\n\t 35540 & 12 & 31 & 2002 & 15 & PB & F  & 26 & 23\\\\\n\t 35541 & 12 & 31 & 2002 & 15 & PB & F  & 24 & 31\\\\\n\t 35542 & 12 & 31 & 2002 & 15 & PB & F  & 26 & 29\\\\\n\t 35543 & 12 & 31 & 2002 & 15 & PB & F  & 27 & 34\\\\\n\t 35547 & 12 & 31 & 2002 & 10 & RM & F  & 15 & 14\\\\\n\t 35548 & 12 & 31 & 2002 &  7 & DO & M  & 36 & 51\\\\\n\\end{tabular}\n",
            "text/markdown": "\nA data.frame: 31438 × 9\n\n| record_id &lt;int&gt; | month &lt;int&gt; | day &lt;int&gt; | year &lt;int&gt; | plot_id &lt;int&gt; | species_id &lt;chr&gt; | sex &lt;chr&gt; | hindfoot_length &lt;int&gt; | weight &lt;int&gt; |\n|---|---|---|---|---|---|---|---|---|\n|  1 | 7 | 16 | 1977 |  2 | NL | M | 32 | NA |\n|  2 | 7 | 16 | 1977 |  3 | NL | M | 33 | NA |\n|  3 | 7 | 16 | 1977 |  2 | DM | F | 37 | NA |\n|  4 | 7 | 16 | 1977 |  7 | DM | M | 36 | NA |\n|  5 | 7 | 16 | 1977 |  3 | DM | M | 35 | NA |\n|  6 | 7 | 16 | 1977 |  1 | PF | M | 14 | NA |\n|  8 | 7 | 16 | 1977 |  1 | DM | M | 37 | NA |\n|  9 | 7 | 16 | 1977 |  1 | DM | F | 34 | NA |\n| 10 | 7 | 16 | 1977 |  6 | PF | F | 20 | NA |\n| 11 | 7 | 16 | 1977 |  5 | DS | F | 53 | NA |\n| 12 | 7 | 16 | 1977 |  7 | DM | M | 38 | NA |\n| 13 | 7 | 16 | 1977 |  3 | DM | M | 35 | NA |\n| 15 | 7 | 16 | 1977 |  6 | DM | F | 36 | NA |\n| 16 | 7 | 16 | 1977 |  4 | DM | F | 36 | NA |\n| 17 | 7 | 16 | 1977 |  3 | DS | F | 48 | NA |\n| 18 | 7 | 16 | 1977 |  2 | PP | M | 22 | NA |\n| 20 | 7 | 17 | 1977 | 11 | DS | F | 48 | NA |\n| 21 | 7 | 17 | 1977 | 14 | DM | F | 34 | NA |\n| 22 | 7 | 17 | 1977 | 15 | NL | F | 31 | NA |\n| 23 | 7 | 17 | 1977 | 13 | DM | M | 36 | NA |\n| 24 | 7 | 17 | 1977 | 13 | SH | M | 21 | NA |\n| 25 | 7 | 17 | 1977 |  9 | DM | M | 35 | NA |\n| 26 | 7 | 17 | 1977 | 15 | DM | M | 31 | NA |\n| 27 | 7 | 17 | 1977 | 15 | DM | M | 36 | NA |\n| 28 | 7 | 17 | 1977 | 11 | DM | M | 38 | NA |\n| 30 | 7 | 17 | 1977 | 10 | DS | F | 52 | NA |\n| 31 | 7 | 17 | 1977 | 15 | DM | F | 37 | NA |\n| 32 | 7 | 17 | 1977 | 10 | DM | F | 35 | NA |\n| 33 | 7 | 17 | 1977 | 11 | DM | F | 36 | NA |\n| 35 | 7 | 17 | 1977 | 13 | DM | F | 38 | NA |\n| ⋮ | ⋮ | ⋮ | ⋮ | ⋮ | ⋮ | ⋮ | ⋮ | ⋮ |\n| 35515 | 12 | 31 | 2002 | 11 | SF | F  | 27 | NA |\n| 35516 | 12 | 31 | 2002 | 11 | DO | F  | 35 | 52 |\n| 35517 | 12 | 31 | 2002 | 11 | DM | F  | 36 | 42 |\n| 35518 | 12 | 31 | 2002 | 11 | DO | M  | 36 | 38 |\n| 35519 | 12 | 31 | 2002 |  9 | DM | M  | 37 | 49 |\n| 35520 | 12 | 31 | 2002 |  9 | SF | NA | 24 | 36 |\n| 35521 | 12 | 31 | 2002 |  9 | DM | M  | 37 | 48 |\n| 35522 | 12 | 31 | 2002 |  9 | DM | F  | 35 | 45 |\n| 35523 | 12 | 31 | 2002 |  9 | DM | F  | 36 | 44 |\n| 35524 | 12 | 31 | 2002 |  9 | PB | F  | 25 | 27 |\n| 35525 | 12 | 31 | 2002 |  9 | OL | M  | 21 | 26 |\n| 35526 | 12 | 31 | 2002 |  8 | OT | F  | 20 | 24 |\n| 35527 | 12 | 31 | 2002 | 13 | DO | F  | 33 | 43 |\n| 35529 | 12 | 31 | 2002 | 13 | PB | F  | 25 | 25 |\n| 35530 | 12 | 31 | 2002 | 13 | OT | F  | 20 | NA |\n| 35531 | 12 | 31 | 2002 | 13 | PB | F  | 27 | NA |\n| 35532 | 12 | 31 | 2002 | 14 | DM | F  | 34 | 43 |\n| 35533 | 12 | 31 | 2002 | 14 | DM | F  | 36 | 48 |\n| 35534 | 12 | 31 | 2002 | 14 | DM | M  | 37 | 56 |\n| 35535 | 12 | 31 | 2002 | 14 | DM | M  | 37 | 53 |\n| 35536 | 12 | 31 | 2002 | 14 | DM | F  | 35 | 42 |\n| 35537 | 12 | 31 | 2002 | 14 | DM | F  | 36 | 46 |\n| 35538 | 12 | 31 | 2002 | 15 | PB | F  | 26 | 31 |\n| 35539 | 12 | 31 | 2002 | 15 | SF | M  | 26 | 68 |\n| 35540 | 12 | 31 | 2002 | 15 | PB | F  | 26 | 23 |\n| 35541 | 12 | 31 | 2002 | 15 | PB | F  | 24 | 31 |\n| 35542 | 12 | 31 | 2002 | 15 | PB | F  | 26 | 29 |\n| 35543 | 12 | 31 | 2002 | 15 | PB | F  | 27 | 34 |\n| 35547 | 12 | 31 | 2002 | 10 | RM | F  | 15 | 14 |\n| 35548 | 12 | 31 | 2002 |  7 | DO | M  | 36 | 51 |\n\n",
            "text/html": [
              "<table>\n",
              "<caption>A data.frame: 31438 × 9</caption>\n",
              "<thead>\n",
              "\t<tr><th scope=col>record_id</th><th scope=col>month</th><th scope=col>day</th><th scope=col>year</th><th scope=col>plot_id</th><th scope=col>species_id</th><th scope=col>sex</th><th scope=col>hindfoot_length</th><th scope=col>weight</th></tr>\n",
              "\t<tr><th scope=col>&lt;int&gt;</th><th scope=col>&lt;int&gt;</th><th scope=col>&lt;int&gt;</th><th scope=col>&lt;int&gt;</th><th scope=col>&lt;int&gt;</th><th scope=col>&lt;chr&gt;</th><th scope=col>&lt;chr&gt;</th><th scope=col>&lt;int&gt;</th><th scope=col>&lt;int&gt;</th></tr>\n",
              "</thead>\n",
              "<tbody>\n",
              "\t<tr><td> 1</td><td>7</td><td>16</td><td>1977</td><td> 2</td><td>NL</td><td>M</td><td>32</td><td>NA</td></tr>\n",
              "\t<tr><td> 2</td><td>7</td><td>16</td><td>1977</td><td> 3</td><td>NL</td><td>M</td><td>33</td><td>NA</td></tr>\n",
              "\t<tr><td> 3</td><td>7</td><td>16</td><td>1977</td><td> 2</td><td>DM</td><td>F</td><td>37</td><td>NA</td></tr>\n",
              "\t<tr><td> 4</td><td>7</td><td>16</td><td>1977</td><td> 7</td><td>DM</td><td>M</td><td>36</td><td>NA</td></tr>\n",
              "\t<tr><td> 5</td><td>7</td><td>16</td><td>1977</td><td> 3</td><td>DM</td><td>M</td><td>35</td><td>NA</td></tr>\n",
              "\t<tr><td> 6</td><td>7</td><td>16</td><td>1977</td><td> 1</td><td>PF</td><td>M</td><td>14</td><td>NA</td></tr>\n",
              "\t<tr><td> 8</td><td>7</td><td>16</td><td>1977</td><td> 1</td><td>DM</td><td>M</td><td>37</td><td>NA</td></tr>\n",
              "\t<tr><td> 9</td><td>7</td><td>16</td><td>1977</td><td> 1</td><td>DM</td><td>F</td><td>34</td><td>NA</td></tr>\n",
              "\t<tr><td>10</td><td>7</td><td>16</td><td>1977</td><td> 6</td><td>PF</td><td>F</td><td>20</td><td>NA</td></tr>\n",
              "\t<tr><td>11</td><td>7</td><td>16</td><td>1977</td><td> 5</td><td>DS</td><td>F</td><td>53</td><td>NA</td></tr>\n",
              "\t<tr><td>12</td><td>7</td><td>16</td><td>1977</td><td> 7</td><td>DM</td><td>M</td><td>38</td><td>NA</td></tr>\n",
              "\t<tr><td>13</td><td>7</td><td>16</td><td>1977</td><td> 3</td><td>DM</td><td>M</td><td>35</td><td>NA</td></tr>\n",
              "\t<tr><td>15</td><td>7</td><td>16</td><td>1977</td><td> 6</td><td>DM</td><td>F</td><td>36</td><td>NA</td></tr>\n",
              "\t<tr><td>16</td><td>7</td><td>16</td><td>1977</td><td> 4</td><td>DM</td><td>F</td><td>36</td><td>NA</td></tr>\n",
              "\t<tr><td>17</td><td>7</td><td>16</td><td>1977</td><td> 3</td><td>DS</td><td>F</td><td>48</td><td>NA</td></tr>\n",
              "\t<tr><td>18</td><td>7</td><td>16</td><td>1977</td><td> 2</td><td>PP</td><td>M</td><td>22</td><td>NA</td></tr>\n",
              "\t<tr><td>20</td><td>7</td><td>17</td><td>1977</td><td>11</td><td>DS</td><td>F</td><td>48</td><td>NA</td></tr>\n",
              "\t<tr><td>21</td><td>7</td><td>17</td><td>1977</td><td>14</td><td>DM</td><td>F</td><td>34</td><td>NA</td></tr>\n",
              "\t<tr><td>22</td><td>7</td><td>17</td><td>1977</td><td>15</td><td>NL</td><td>F</td><td>31</td><td>NA</td></tr>\n",
              "\t<tr><td>23</td><td>7</td><td>17</td><td>1977</td><td>13</td><td>DM</td><td>M</td><td>36</td><td>NA</td></tr>\n",
              "\t<tr><td>24</td><td>7</td><td>17</td><td>1977</td><td>13</td><td>SH</td><td>M</td><td>21</td><td>NA</td></tr>\n",
              "\t<tr><td>25</td><td>7</td><td>17</td><td>1977</td><td> 9</td><td>DM</td><td>M</td><td>35</td><td>NA</td></tr>\n",
              "\t<tr><td>26</td><td>7</td><td>17</td><td>1977</td><td>15</td><td>DM</td><td>M</td><td>31</td><td>NA</td></tr>\n",
              "\t<tr><td>27</td><td>7</td><td>17</td><td>1977</td><td>15</td><td>DM</td><td>M</td><td>36</td><td>NA</td></tr>\n",
              "\t<tr><td>28</td><td>7</td><td>17</td><td>1977</td><td>11</td><td>DM</td><td>M</td><td>38</td><td>NA</td></tr>\n",
              "\t<tr><td>30</td><td>7</td><td>17</td><td>1977</td><td>10</td><td>DS</td><td>F</td><td>52</td><td>NA</td></tr>\n",
              "\t<tr><td>31</td><td>7</td><td>17</td><td>1977</td><td>15</td><td>DM</td><td>F</td><td>37</td><td>NA</td></tr>\n",
              "\t<tr><td>32</td><td>7</td><td>17</td><td>1977</td><td>10</td><td>DM</td><td>F</td><td>35</td><td>NA</td></tr>\n",
              "\t<tr><td>33</td><td>7</td><td>17</td><td>1977</td><td>11</td><td>DM</td><td>F</td><td>36</td><td>NA</td></tr>\n",
              "\t<tr><td>35</td><td>7</td><td>17</td><td>1977</td><td>13</td><td>DM</td><td>F</td><td>38</td><td>NA</td></tr>\n",
              "\t<tr><td>⋮</td><td>⋮</td><td>⋮</td><td>⋮</td><td>⋮</td><td>⋮</td><td>⋮</td><td>⋮</td><td>⋮</td></tr>\n",
              "\t<tr><td>35515</td><td>12</td><td>31</td><td>2002</td><td>11</td><td>SF</td><td>F </td><td>27</td><td>NA</td></tr>\n",
              "\t<tr><td>35516</td><td>12</td><td>31</td><td>2002</td><td>11</td><td>DO</td><td>F </td><td>35</td><td>52</td></tr>\n",
              "\t<tr><td>35517</td><td>12</td><td>31</td><td>2002</td><td>11</td><td>DM</td><td>F </td><td>36</td><td>42</td></tr>\n",
              "\t<tr><td>35518</td><td>12</td><td>31</td><td>2002</td><td>11</td><td>DO</td><td>M </td><td>36</td><td>38</td></tr>\n",
              "\t<tr><td>35519</td><td>12</td><td>31</td><td>2002</td><td> 9</td><td>DM</td><td>M </td><td>37</td><td>49</td></tr>\n",
              "\t<tr><td>35520</td><td>12</td><td>31</td><td>2002</td><td> 9</td><td>SF</td><td>NA</td><td>24</td><td>36</td></tr>\n",
              "\t<tr><td>35521</td><td>12</td><td>31</td><td>2002</td><td> 9</td><td>DM</td><td>M </td><td>37</td><td>48</td></tr>\n",
              "\t<tr><td>35522</td><td>12</td><td>31</td><td>2002</td><td> 9</td><td>DM</td><td>F </td><td>35</td><td>45</td></tr>\n",
              "\t<tr><td>35523</td><td>12</td><td>31</td><td>2002</td><td> 9</td><td>DM</td><td>F </td><td>36</td><td>44</td></tr>\n",
              "\t<tr><td>35524</td><td>12</td><td>31</td><td>2002</td><td> 9</td><td>PB</td><td>F </td><td>25</td><td>27</td></tr>\n",
              "\t<tr><td>35525</td><td>12</td><td>31</td><td>2002</td><td> 9</td><td>OL</td><td>M </td><td>21</td><td>26</td></tr>\n",
              "\t<tr><td>35526</td><td>12</td><td>31</td><td>2002</td><td> 8</td><td>OT</td><td>F </td><td>20</td><td>24</td></tr>\n",
              "\t<tr><td>35527</td><td>12</td><td>31</td><td>2002</td><td>13</td><td>DO</td><td>F </td><td>33</td><td>43</td></tr>\n",
              "\t<tr><td>35529</td><td>12</td><td>31</td><td>2002</td><td>13</td><td>PB</td><td>F </td><td>25</td><td>25</td></tr>\n",
              "\t<tr><td>35530</td><td>12</td><td>31</td><td>2002</td><td>13</td><td>OT</td><td>F </td><td>20</td><td>NA</td></tr>\n",
              "\t<tr><td>35531</td><td>12</td><td>31</td><td>2002</td><td>13</td><td>PB</td><td>F </td><td>27</td><td>NA</td></tr>\n",
              "\t<tr><td>35532</td><td>12</td><td>31</td><td>2002</td><td>14</td><td>DM</td><td>F </td><td>34</td><td>43</td></tr>\n",
              "\t<tr><td>35533</td><td>12</td><td>31</td><td>2002</td><td>14</td><td>DM</td><td>F </td><td>36</td><td>48</td></tr>\n",
              "\t<tr><td>35534</td><td>12</td><td>31</td><td>2002</td><td>14</td><td>DM</td><td>M </td><td>37</td><td>56</td></tr>\n",
              "\t<tr><td>35535</td><td>12</td><td>31</td><td>2002</td><td>14</td><td>DM</td><td>M </td><td>37</td><td>53</td></tr>\n",
              "\t<tr><td>35536</td><td>12</td><td>31</td><td>2002</td><td>14</td><td>DM</td><td>F </td><td>35</td><td>42</td></tr>\n",
              "\t<tr><td>35537</td><td>12</td><td>31</td><td>2002</td><td>14</td><td>DM</td><td>F </td><td>36</td><td>46</td></tr>\n",
              "\t<tr><td>35538</td><td>12</td><td>31</td><td>2002</td><td>15</td><td>PB</td><td>F </td><td>26</td><td>31</td></tr>\n",
              "\t<tr><td>35539</td><td>12</td><td>31</td><td>2002</td><td>15</td><td>SF</td><td>M </td><td>26</td><td>68</td></tr>\n",
              "\t<tr><td>35540</td><td>12</td><td>31</td><td>2002</td><td>15</td><td>PB</td><td>F </td><td>26</td><td>23</td></tr>\n",
              "\t<tr><td>35541</td><td>12</td><td>31</td><td>2002</td><td>15</td><td>PB</td><td>F </td><td>24</td><td>31</td></tr>\n",
              "\t<tr><td>35542</td><td>12</td><td>31</td><td>2002</td><td>15</td><td>PB</td><td>F </td><td>26</td><td>29</td></tr>\n",
              "\t<tr><td>35543</td><td>12</td><td>31</td><td>2002</td><td>15</td><td>PB</td><td>F </td><td>27</td><td>34</td></tr>\n",
              "\t<tr><td>35547</td><td>12</td><td>31</td><td>2002</td><td>10</td><td>RM</td><td>F </td><td>15</td><td>14</td></tr>\n",
              "\t<tr><td>35548</td><td>12</td><td>31</td><td>2002</td><td> 7</td><td>DO</td><td>M </td><td>36</td><td>51</td></tr>\n",
              "</tbody>\n",
              "</table>\n"
            ]
          },
          "metadata": {
            "tags": []
          }
        }
      ]
    },
    {
      "cell_type": "code",
      "metadata": {
        "id": "m5pOKRZ9bYPq",
        "colab_type": "code",
        "colab": {
          "base_uri": "https://localhost:8080/",
          "height": 875
        },
        "outputId": "76fd0625-dd9c-4fe3-a988-d92d12ec6138"
      },
      "source": [
        "#@title Solution 5\n",
        "ggplot(surveys %>% filter(hindfoot_length > 0),aes(x=hindfoot_length)) +\n",
        "  geom_histogram()"
      ],
      "execution_count": 87,
      "outputs": [
        {
          "output_type": "stream",
          "text": [
            "`stat_bin()` using `bins = 30`. Pick better value with `binwidth`.\n"
          ],
          "name": "stderr"
        },
        {
          "output_type": "display_data",
          "data": {
            "image/png": "[encoded data removed]",
            "text/plain": [
              "plot without title"
            ]
          },
          "metadata": {
            "tags": []
          }
        }
      ]
    },
    {
      "cell_type": "code",
      "metadata": {
        "id": "7FTM0EnGbrOl",
        "colab_type": "code",
        "colab": {
          "base_uri": "https://localhost:8080/",
          "height": 113
        },
        "outputId": "484e5927-3249-46e0-dc33-d98b1769c4a8"
      },
      "source": [
        "#@title Solution 6\n",
        "surveys %>%\n",
        "  filter(weight > 0) %>%  # Filter out weights <= 0.\n",
        "  summarise_each(\n",
        "    weight,  # Indicate the column we want to summarize.\n",
        "    funs=list(mean_weight=mean))  # Indicate `mean` as the aggregator."
      ],
      "execution_count": 98,
      "outputs": [
        {
          "output_type": "display_data",
          "data": {
            "text/plain": [
              "  mean_weight\n",
              "1 42.67243   "
            ],
            "text/latex": "A data.frame: 1 × 1\n\\begin{tabular}{r|l}\n mean\\_weight\\\\\n <dbl>\\\\\n\\hline\n\t 42.67243\\\\\n\\end{tabular}\n",
            "text/markdown": "\nA data.frame: 1 × 1\n\n| mean_weight &lt;dbl&gt; |\n|---|\n| 42.67243 |\n\n",
            "text/html": [
              "<table>\n",
              "<caption>A data.frame: 1 × 1</caption>\n",
              "<thead>\n",
              "\t<tr><th scope=col>mean_weight</th></tr>\n",
              "\t<tr><th scope=col>&lt;dbl&gt;</th></tr>\n",
              "</thead>\n",
              "<tbody>\n",
              "\t<tr><td>42.67243</td></tr>\n",
              "</tbody>\n",
              "</table>\n"
            ]
          },
          "metadata": {
            "tags": []
          }
        }
      ]
    },
    {
      "cell_type": "code",
      "metadata": {
        "id": "R0lp2NKZdKDl",
        "colab_type": "code",
        "colab": {
          "base_uri": "https://localhost:8080/",
          "height": 136
        },
        "outputId": "35b2a5cb-97b2-4e85-f684-3704a2899dcd"
      },
      "source": [
        "#@title Solution 7\n",
        "surveys %>%\n",
        "  filter(weight > 0) %>%  # Filter out weights <= 0.\n",
        "  group_by(sex) %>%  # Separate data into groups based on sex.\n",
        "  summarise_each(\n",
        "    weight,  # Indicate the column we want to summarize.\n",
        "    funs=list(mean_weight=mean))  # Indicate `mean` as the aggregator."
      ],
      "execution_count": 99,
      "outputs": [
        {
          "output_type": "display_data",
          "data": {
            "text/plain": [
              "  sex mean_weight\n",
              "1 F   42.17055   \n",
              "2 M   42.99538   \n",
              "3 NA  64.74257   "
            ],
            "text/latex": "A tibble: 3 × 2\n\\begin{tabular}{r|ll}\n sex & mean\\_weight\\\\\n <chr> & <dbl>\\\\\n\\hline\n\t F  & 42.17055\\\\\n\t M  & 42.99538\\\\\n\t NA & 64.74257\\\\\n\\end{tabular}\n",
            "text/markdown": "\nA tibble: 3 × 2\n\n| sex &lt;chr&gt; | mean_weight &lt;dbl&gt; |\n|---|---|\n| F  | 42.17055 |\n| M  | 42.99538 |\n| NA | 64.74257 |\n\n",
            "text/html": [
              "<table>\n",
              "<caption>A tibble: 3 × 2</caption>\n",
              "<thead>\n",
              "\t<tr><th scope=col>sex</th><th scope=col>mean_weight</th></tr>\n",
              "\t<tr><th scope=col>&lt;chr&gt;</th><th scope=col>&lt;dbl&gt;</th></tr>\n",
              "</thead>\n",
              "<tbody>\n",
              "\t<tr><td>F </td><td>42.17055</td></tr>\n",
              "\t<tr><td>M </td><td>42.99538</td></tr>\n",
              "\t<tr><td>NA</td><td>64.74257</td></tr>\n",
              "</tbody>\n",
              "</table>\n"
            ]
          },
          "metadata": {
            "tags": []
          }
        }
      ]
    },
    {
      "cell_type": "code",
      "metadata": {
        "id": "-E9aRFBldXB_",
        "colab_type": "code",
        "colab": {
          "base_uri": "https://localhost:8080/",
          "height": 857
        },
        "outputId": "2848fee1-46ef-4d53-e199-905b8ed7357c"
      },
      "source": [
        "#@title Solution 8\n",
        "weight_stats <- surveys %>%\n",
        "  filter(weight > 0) %>%  # Filter out weights <= 0.\n",
        "  group_by(sex) %>%  # Separate data into groups based on sex.\n",
        "  summarise_each(\n",
        "    weight,  # Indicate the column we want to summarize.\n",
        "    funs=list(mean_weight=mean))  # Indicate `mean` as the aggregator.\n",
        "\n",
        "ggplot(weight_stats, aes(x=sex,y=mean_weight)) +\n",
        "  geom_bar(stat='identity')  # 'identity' indicate values are the bar heights."
      ],
      "execution_count": 100,
      "outputs": [
        {
          "output_type": "display_data",
          "data": {
            "image/png": "[encoded data removed]",
            "text/plain": [
              "plot without title"
            ]
          },
          "metadata": {
            "tags": []
          }
        }
      ]
    },
    {
      "cell_type": "code",
      "metadata": {
        "id": "tyAqn10BdwQL",
        "colab_type": "code",
        "colab": {
          "base_uri": "https://localhost:8080/",
          "height": 893
        },
        "outputId": "8be2e529-84e5-4442-a3fc-6934144f25e1"
      },
      "source": [
        "#@title Solution 9\n",
        "ggplot(surveys, aes(x=sex, y=weight)) +\n",
        "  geom_boxplot() "
      ],
      "execution_count": 109,
      "outputs": [
        {
          "output_type": "stream",
          "text": [
            "Warning message:\n",
            "“Removed 3266 rows containing non-finite values (stat_boxplot).”"
          ],
          "name": "stderr"
        },
        {
          "output_type": "display_data",
          "data": {
            "image/png": "[encoded data removed]",
            "text/plain": [
              "plot without title"
            ]
          },
          "metadata": {
            "tags": []
          }
        }
      ]
    },
    {
      "cell_type": "code",
      "metadata": {
        "id": "vHm6MOuyeevn",
        "colab_type": "code",
        "colab": {
          "base_uri": "https://localhost:8080/",
          "height": 96
        },
        "outputId": "49990f15-b69c-4a72-b275-6792e9855546"
      },
      "source": [
        "#@title Solution 10\n",
        "summary(lm(weight ~ hindfoot_length, surveys))$coef"
      ],
      "execution_count": 110,
      "outputs": [
        {
          "output_type": "display_data",
          "data": {
            "text/plain": [
              "                Estimate   Std. Error t value   Pr(>|t|)\n",
              "(Intercept)     -32.858983 0.47782843 -68.76733 0       \n",
              "hindfoot_length   2.555189 0.01555182 164.30161 0       "
            ],
            "text/latex": "A matrix: 2 × 4 of type dbl\n\\begin{tabular}{r|llll}\n  & Estimate & Std. Error & t value & Pr(>\\textbar{}t\\textbar{})\\\\\n\\hline\n\t(Intercept) & -32.858983 & 0.47782843 & -68.76733 & 0\\\\\n\thindfoot\\_length &   2.555189 & 0.01555182 & 164.30161 & 0\\\\\n\\end{tabular}\n",
            "text/markdown": "\nA matrix: 2 × 4 of type dbl\n\n| <!--/--> | Estimate | Std. Error | t value | Pr(&gt;|t|) |\n|---|---|---|---|---|\n| (Intercept) | -32.858983 | 0.47782843 | -68.76733 | 0 |\n| hindfoot_length |   2.555189 | 0.01555182 | 164.30161 | 0 |\n\n",
            "text/html": [
              "<table>\n",
              "<caption>A matrix: 2 × 4 of type dbl</caption>\n",
              "<thead>\n",
              "\t<tr><th></th><th scope=col>Estimate</th><th scope=col>Std. Error</th><th scope=col>t value</th><th scope=col>Pr(&gt;|t|)</th></tr>\n",
              "</thead>\n",
              "<tbody>\n",
              "\t<tr><th scope=row>(Intercept)</th><td>-32.858983</td><td>0.47782843</td><td>-68.76733</td><td>0</td></tr>\n",
              "\t<tr><th scope=row>hindfoot_length</th><td>  2.555189</td><td>0.01555182</td><td>164.30161</td><td>0</td></tr>\n",
              "</tbody>\n",
              "</table>\n"
            ]
          },
          "metadata": {
            "tags": []
          }
        }
      ]
    },
    {
      "cell_type": "code",
      "metadata": {
        "id": "7qU0WuBeez7B",
        "colab_type": "code",
        "colab": {
          "base_uri": "https://localhost:8080/",
          "height": 910
        },
        "outputId": "e6ae4372-9cc6-44e4-8d1e-0ebd2a72da31"
      },
      "source": [
        "#@title Solution 11\n",
        "ggplot(surveys, aes(weight, hindfoot_length)) +\n",
        "  geom_point() +\n",
        "  geom_smooth(method = \"lm\", se=FALSE)"
      ],
      "execution_count": 115,
      "outputs": [
        {
          "output_type": "stream",
          "text": [
            "Warning message:\n",
            "“Removed 4811 rows containing non-finite values (stat_smooth).”Warning message:\n",
            "“Removed 4811 rows containing missing values (geom_point).”"
          ],
          "name": "stderr"
        },
        {
          "output_type": "display_data",
          "data": {
            "image/png": "[encoded data removed]",
            "text/plain": [
              "plot without title"
            ]
          },
          "metadata": {
            "tags": []
          }
        }
      ]
    },
    {
      "cell_type": "code",
      "metadata": {
        "id": "X0p2wedDfGo1",
        "colab_type": "code",
        "colab": {
          "base_uri": "https://localhost:8080/",
          "height": 213
        },
        "outputId": "86328ea9-c00e-42a7-dd45-9e4ab6a755b4"
      },
      "source": [
        "#@title Solution 12\n",
        "t.test(  # Do a t-test comparing\n",
        "  surveys[surveys$sex == 'M',]$weight,  # the `weight` of males\n",
        "  surveys[surveys$sex == 'F',]$weight)  # the `weight' of females\n",
        "\n",
        "# Males are between [0.02552529, 1.62412287] pounds heavier 95%\n",
        "# of the time."
      ],
      "execution_count": 118,
      "outputs": [
        {
          "output_type": "display_data",
          "data": {
            "text/plain": [
              "\n",
              "\tWelch Two Sample t-test\n",
              "\n",
              "data:  surveys[surveys$sex == \"M\", ]$weight and surveys[surveys$sex == \"F\", ]$weight\n",
              "t = 2.0226, df = 31751, p-value = 0.04312\n",
              "alternative hypothesis: true difference in means is not equal to 0\n",
              "95 percent confidence interval:\n",
              " 0.02552529 1.62412287\n",
              "sample estimates:\n",
              "mean of x mean of y \n",
              " 42.99538  42.17055 \n"
            ]
          },
          "metadata": {
            "tags": []
          }
        }
      ]
    }
  ]
}