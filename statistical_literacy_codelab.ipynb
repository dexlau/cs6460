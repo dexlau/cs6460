{
  "nbformat": 4,
  "nbformat_minor": 0,
  "metadata": {
    "kernelspec": {
      "display_name": "R",
      "language": "R",
      "name": "ir"
    },
    "language_info": {
      "codemirror_mode": "r",
      "file_extension": ".r",
      "mimetype": "text/x-r-source",
      "name": "R",
      "pygments_lexer": "r",
      "version": "3.3.1"
    },
    "colab": {
      "name": "statistical_literacy_codelab.ipynb",
      "provenance": [],
      "collapsed_sections": [],
      "toc_visible": true,
      "include_colab_link": true
    }
  },
  "cells": [
    {
      "cell_type": "markdown",
      "metadata": {
        "id": "view-in-github",
        "colab_type": "text"
      },
      "source": [
        "<a href=\"https://colab.research.google.com/github/dexlau/cs6460/blob/master/statistical_literacy_codelab.ipynb\" target=\"_parent\"><img src=\"https://colab.research.google.com/assets/colab-badge.svg\" alt=\"Open In Colab\"/></a>"
      ]
    },
    {
      "cell_type": "markdown",
      "metadata": {
        "id": "thMJEppg-zZi",
        "colab_type": "text"
      },
      "source": [
        "# Unit 1: Introduction to Data Manipulation and Visualization in R\n",
        "\n",
        "This interactive codelab will introduce you to some basic statistical literacy concepts. The [end goal](https://drive.google.com/open?id=1-Ca41jDsUxPyVt32n9qvPF6_nJK86-Ru) is to give you a sense of how to apply statistical concepts into practical data science solutions for your next school assignment or work project.\n",
        "\n",
        "*Prerequisite: To get the most out of this course, a basic knowledge of statistical functions (e.g. mean, median, mode) is required.*\n",
        "\n",
        "**Running this codelab**: To run this Colab notebook, you'll be asked to `Connect` (top right). When you do, Colab will ask you to acknowledge that it is okay to use the IRKernel (open source version of R from GitHub). Select `RUN ANYWAY` to continue.\n",
        "![warning message](https://i.imgur.com/RWtiOr0.png)"
      ]
    },
    {
      "cell_type": "markdown",
      "metadata": {
        "id": "4gTk4HGRCOfs",
        "colab_type": "text"
      },
      "source": [
        "## Curriculum\n",
        "\n",
        "1.   An introduction to R (data types and structures)\n",
        "1.   Illustrating a basic test set (e.g. mtcars)\n",
        "1.   Plotting the data set\n",
        "1.   Manipulating data - aggregating without grouping\n",
        "1.   Manipulating data - aggregating with grouping\n",
        "1.   Plotting aggregate data groups\n",
        "1.   Outliers - demonstrating how some data can skew results\n",
        "1.   Modeling - illustrating a regression\n",
        "1.   Confidence Intervals - demonstrate how data is subject to certainty\n",
        "1.   New data - revisit the above with a new data set from user\n",
        "\n"
      ]
    },
    {
      "cell_type": "markdown",
      "metadata": {
        "id": "xShfsP2jpC2F",
        "colab_type": "text"
      },
      "source": [
        "## Introduction\n",
        "\n",
        "Before we can start manipulating and visualizing data, we have to get a sense of what shapes data can come in. Similar to how shapes can be described as rectangles, circles, or stars, data comes in a few common types. These data types in R include:\n",
        "*   character: 'a', 'abc' (quotation marks to indicate the characters)\n",
        "*   numeric: 2, 15.5\n",
        "*   integer: 2L (like numeric, but the 'L' indicates we don't want fractions)\n",
        "*   logical: TRUE, FALSE\n",
        "*   complex: 1+2i (complex numbers with real and imaginary parts)"
      ]
    },
    {
      "cell_type": "markdown",
      "metadata": {
        "id": "xvwqZjMe7y0C",
        "colab_type": "text"
      },
      "source": [
        "### Data type examples\n",
        "Print a few examples of data types."
      ]
    },
    {
      "cell_type": "code",
      "metadata": {
        "id": "q7WC-3yG65WR",
        "colab_type": "code",
        "outputId": "f4ae0c8a-ef48-4029-da1d-c4ec9425b053",
        "colab": {
          "base_uri": "https://localhost:8080/",
          "height": 106
        }
      },
      "source": [
        "# Store and print example data types.\n",
        "data_type_example_1 <- 'a'\n",
        "data_type_example_2 <- 15.5\n",
        "data_type_example_3 <- 2L\n",
        "data_type_example_4 <- TRUE\n",
        "data_type_example_5 <- 1+2i\n",
        "print(paste(data_type_example_1,'is',class(data_type_example_1)))\n",
        "print(paste(data_type_example_2,'is',class(data_type_example_2)))\n",
        "print(paste(data_type_example_3,'is',class(data_type_example_3)))\n",
        "print(paste(data_type_example_4,'is',class(data_type_example_4)))\n",
        "print(paste(data_type_example_5,'is',class(data_type_example_5)))"
      ],
      "execution_count": 1,
      "outputs": [
        {
          "output_type": "stream",
          "text": [
            "[1] \"a is character\"\n",
            "[1] \"15.5 is numeric\"\n",
            "[1] \"2 is integer\"\n",
            "[1] \"TRUE is logical\"\n",
            "[1] \"1+2i is complex\"\n"
          ],
          "name": "stdout"
        }
      ]
    },
    {
      "cell_type": "markdown",
      "metadata": {
        "id": "j7O-HZQ47_4x",
        "colab_type": "text"
      },
      "source": [
        "### Data type identifier\n",
        "Try entering a value into `data_type_example` (to the right) and see what data type it corresponds to by pressing the 'Play' button on the left (or `ctrl-shift-enter`).\n",
        "\n",
        "For `character` data types, surround your input with quotation marks to avoid the `Error in eval(expr, envir, enclos)` error."
      ]
    },
    {
      "cell_type": "code",
      "metadata": {
        "id": "G88-FOXapC2H",
        "colab_type": "code",
        "cellView": "both",
        "outputId": "613de203-c567-4a1f-9387-866b964c9d99",
        "colab": {
          "base_uri": "https://localhost:8080/",
          "height": 35
        }
      },
      "source": [
        "# Try entering values to see their data types.\n",
        "data_type_example <- 'a' #@param {type:\"raw\"}\n",
        "print(class(data_type_example))"
      ],
      "execution_count": 2,
      "outputs": [
        {
          "output_type": "stream",
          "text": [
            "[1] \"character\"\n"
          ],
          "name": "stdout"
        }
      ]
    },
    {
      "cell_type": "markdown",
      "metadata": {
        "id": "X9a4-ng0JOKD",
        "colab_type": "text"
      },
      "source": [
        "### Storing values\n",
        "To keep data around, we need to assign it to a variable. This is done using the assignment operator, `<-`. Below, we assign `'Fido'` to `my_dogs_name`."
      ]
    },
    {
      "cell_type": "code",
      "metadata": {
        "id": "sI1t926LJf_i",
        "colab_type": "code",
        "outputId": "4ebb43d5-ef04-4e57-bb11-b59bb4ab1719",
        "colab": {
          "base_uri": "https://localhost:8080/",
          "height": 35
        }
      },
      "source": [
        "my_dogs_name <- 'Fido'\n",
        "print(my_dogs_name)"
      ],
      "execution_count": 3,
      "outputs": [
        {
          "output_type": "stream",
          "text": [
            "[1] \"Fido\"\n"
          ],
          "name": "stdout"
        }
      ]
    },
    {
      "cell_type": "markdown",
      "metadata": {
        "id": "o_DQ8NeMIAu-",
        "colab_type": "text"
      },
      "source": [
        "### Lists of values\n",
        "One piece of data alone isn't too helpful. We can group some similar data together using `c()`, which groups a set of one type of data together."
      ]
    },
    {
      "cell_type": "code",
      "metadata": {
        "id": "8M9ZYnzHpC2M",
        "colab_type": "code",
        "outputId": "d4bf0bc3-57da-4e4a-cd3f-b1fc6002397e",
        "colab": {
          "base_uri": "https://localhost:8080/",
          "height": 35
        }
      },
      "source": [
        "your_dogs_name <- 'Fluffy'\n",
        "our_dogs_names <- c(my_dogs_name, your_dogs_name)\n",
        "print(our_dogs_names)"
      ],
      "execution_count": 4,
      "outputs": [
        {
          "output_type": "stream",
          "text": [
            "[1] \"Fido\"   \"Fluffy\"\n"
          ],
          "name": "stdout"
        }
      ]
    },
    {
      "cell_type": "markdown",
      "metadata": {
        "id": "zQtuKXD3pC2O",
        "colab_type": "text"
      },
      "source": [
        "### Data frames of values\n",
        "\n",
        "We can go a step further and combine groups of data together. This dense representation of data is called a `data frame`. This is analogous to a spreadsheet or table. Let's attach some ages to our dogs and save it as `dog_table`."
      ]
    },
    {
      "cell_type": "code",
      "metadata": {
        "id": "5bfJFj58pC2P",
        "colab_type": "code",
        "outputId": "986f91d4-2eb3-4899-a154-31b0172389a0",
        "colab": {
          "base_uri": "https://localhost:8080/",
          "height": 70
        }
      },
      "source": [
        "dog_table <- data.frame(\"name\" = our_dogs_names, \"age_in_human_years\" = c(2,5))\n",
        "print(dog_table)"
      ],
      "execution_count": 5,
      "outputs": [
        {
          "output_type": "stream",
          "text": [
            "    name age_in_human_years\n",
            "1   Fido                  2\n",
            "2 Fluffy                  5\n"
          ],
          "name": "stdout"
        }
      ]
    },
    {
      "cell_type": "markdown",
      "metadata": {
        "id": "lSEJNmL4Mlxl",
        "colab_type": "text"
      },
      "source": [
        "## Test Data\n",
        "\n",
        "Let's load up some test data for us to play with. `mtcars` is a `data.frame` with car characteristics and mileage. To get a sense of what the data looks like, we can use `str()`."
      ]
    },
    {
      "cell_type": "code",
      "metadata": {
        "id": "YXGTLCh9NWso",
        "colab_type": "code",
        "outputId": "7b216804-0c26-4726-def5-2bec6776de08",
        "colab": {
          "base_uri": "https://localhost:8080/",
          "height": 230
        }
      },
      "source": [
        "data(mtcars)\n",
        "str(mtcars)  # Describe the columns, data types, sample values, and table size.\n"
      ],
      "execution_count": 6,
      "outputs": [
        {
          "output_type": "stream",
          "text": [
            "'data.frame':\t32 obs. of  11 variables:\n",
            " $ mpg : num  21 21 22.8 21.4 18.7 18.1 14.3 24.4 22.8 19.2 ...\n",
            " $ cyl : num  6 6 4 6 8 6 8 4 4 6 ...\n",
            " $ disp: num  160 160 108 258 360 ...\n",
            " $ hp  : num  110 110 93 110 175 105 245 62 95 123 ...\n",
            " $ drat: num  3.9 3.9 3.85 3.08 3.15 2.76 3.21 3.69 3.92 3.92 ...\n",
            " $ wt  : num  2.62 2.88 2.32 3.21 3.44 ...\n",
            " $ qsec: num  16.5 17 18.6 19.4 17 ...\n",
            " $ vs  : num  0 0 1 1 0 1 0 1 1 1 ...\n",
            " $ am  : num  1 1 1 0 0 0 0 0 0 0 ...\n",
            " $ gear: num  4 4 4 3 3 3 3 4 4 4 ...\n",
            " $ carb: num  4 4 1 1 2 1 4 2 2 4 ...\n"
          ],
          "name": "stdout"
        }
      ]
    },
    {
      "cell_type": "markdown",
      "metadata": {
        "id": "LiThdH0nO08Q",
        "colab_type": "text"
      },
      "source": [
        "To build an intuition about that data, we can explore some useful summary statistics using the `summary()` function. It provides the minimum value, maximum value, quartile values, and mean values of each column of data. From the 32 cars in this [1973–1974 data set](https://stat.ethz.ch/R-manual/R-devel/library/datasets/html/mtcars.html), we can see the average `mpg` is `20.09`."
      ]
    },
    {
      "cell_type": "code",
      "metadata": {
        "id": "8MeVK5ZMOONe",
        "colab_type": "code",
        "outputId": "c472157e-b731-484a-d803-5013475fa4c5",
        "colab": {
          "base_uri": "https://localhost:8080/",
          "height": 390
        }
      },
      "source": [
        "summary(mtcars)"
      ],
      "execution_count": 7,
      "outputs": [
        {
          "output_type": "display_data",
          "data": {
            "text/plain": [
              "      mpg             cyl             disp             hp       \n",
              " Min.   :10.40   Min.   :4.000   Min.   : 71.1   Min.   : 52.0  \n",
              " 1st Qu.:15.43   1st Qu.:4.000   1st Qu.:120.8   1st Qu.: 96.5  \n",
              " Median :19.20   Median :6.000   Median :196.3   Median :123.0  \n",
              " Mean   :20.09   Mean   :6.188   Mean   :230.7   Mean   :146.7  \n",
              " 3rd Qu.:22.80   3rd Qu.:8.000   3rd Qu.:326.0   3rd Qu.:180.0  \n",
              " Max.   :33.90   Max.   :8.000   Max.   :472.0   Max.   :335.0  \n",
              "      drat             wt             qsec             vs        \n",
              " Min.   :2.760   Min.   :1.513   Min.   :14.50   Min.   :0.0000  \n",
              " 1st Qu.:3.080   1st Qu.:2.581   1st Qu.:16.89   1st Qu.:0.0000  \n",
              " Median :3.695   Median :3.325   Median :17.71   Median :0.0000  \n",
              " Mean   :3.597   Mean   :3.217   Mean   :17.85   Mean   :0.4375  \n",
              " 3rd Qu.:3.920   3rd Qu.:3.610   3rd Qu.:18.90   3rd Qu.:1.0000  \n",
              " Max.   :4.930   Max.   :5.424   Max.   :22.90   Max.   :1.0000  \n",
              "       am              gear            carb      \n",
              " Min.   :0.0000   Min.   :3.000   Min.   :1.000  \n",
              " 1st Qu.:0.0000   1st Qu.:3.000   1st Qu.:2.000  \n",
              " Median :0.0000   Median :4.000   Median :2.000  \n",
              " Mean   :0.4062   Mean   :3.688   Mean   :2.812  \n",
              " 3rd Qu.:1.0000   3rd Qu.:4.000   3rd Qu.:4.000  \n",
              " Max.   :1.0000   Max.   :5.000   Max.   :8.000  "
            ]
          },
          "metadata": {
            "tags": []
          }
        }
      ]
    },
    {
      "cell_type": "markdown",
      "metadata": {
        "id": "HyKCavLvPrdV",
        "colab_type": "text"
      },
      "source": [
        "## Plotting the Data\n",
        "\n",
        "Rather than presenting large amounts of data as a table or summary statistics, we can visualize it using plots (AKA charts). This makes reading data easier.\n",
        "\n",
        "### Histogram\n",
        "\n",
        "A simple histogram can give us a sense of how many cars have a given `mpg` value. With one visual, we can see that most cars have an `mpg` near `20`, but cars with much higher or lower `mpg` values are less common.\n"
      ]
    },
    {
      "cell_type": "code",
      "metadata": {
        "id": "gdpKNoOOUvZK",
        "colab_type": "code",
        "outputId": "4ee2cc40-4ef5-48dd-ae21-324b167e4fbe",
        "colab": {
          "base_uri": "https://localhost:8080/",
          "height": 857
        }
      },
      "source": [
        "suppressMessages(\n",
        "  library(ggplot2))  # A helpful library for plotting data easily.\n",
        "ggplot(mtcars,aes(x=mpg)) +  # Create a new plot.\n",
        "  geom_histogram(binwidth=5)  # Add a histogram to the plot, grouping mpg by 5."
      ],
      "execution_count": 8,
      "outputs": [
        {
          "output_type": "display_data",
          "data": {
            "image/png": "[encoded data removed]",
            "text/plain": [
              "plot without title"
            ]
          },
          "metadata": {
            "tags": []
          }
        }
      ]
    },
    {
      "cell_type": "markdown",
      "metadata": {
        "id": "riLd0snZpC2S",
        "colab_type": "text"
      },
      "source": [
        "### Scatter plot\n",
        "\n",
        "Representing the data with different plots using different columns of data helps us show interesting relationships. For example, showing `mpg` versus `wt` (weight) succinctly describes how two values relate to each other. In this case, heavier cars have lower `mpg` values."
      ]
    },
    {
      "cell_type": "code",
      "metadata": {
        "id": "-GLd2ah8pC2T",
        "colab_type": "code",
        "outputId": "6ba96268-329c-4fcf-8093-5dbc0e67b252",
        "colab": {
          "base_uri": "https://localhost:8080/",
          "height": 857
        }
      },
      "source": [
        "ggplot(mtcars,aes(x=wt,y=mpg)) + geom_point()"
      ],
      "execution_count": 9,
      "outputs": [
        {
          "output_type": "display_data",
          "data": {
            "image/png": "[encoded data removed]",
            "text/plain": [
              "plot without title"
            ]
          },
          "metadata": {
            "tags": []
          }
        }
      ]
    },
    {
      "cell_type": "markdown",
      "metadata": {
        "id": "Z3U9VAdiZATB",
        "colab_type": "text"
      },
      "source": [
        "## Manipulating data - Aggregating Without Grouping\n",
        "\n",
        "While `summary()` is useful to show common statistics, it might not have the an aggregation you are curious about. We can use another [built in stats function](https://stat.ethz.ch/R-manual/R-devel/library/stats/html/00Index.html) like `var()` to compute variance for the `mpg` column.\n",
        "\n",
        "Here we use a handy package called `dplyr` ([documentation](https://dplyr.tidyverse.org/)) to make data manipulation easier. Starting with a dataset, you can sequentially apply data manipulation commands using `%>%`."
      ]
    },
    {
      "cell_type": "code",
      "metadata": {
        "id": "vzSoIt8wZ89S",
        "colab_type": "code",
        "outputId": "5f54f81c-a1de-43f1-e246-d8585d317fa8",
        "colab": {
          "base_uri": "https://localhost:8080/",
          "height": 88
        }
      },
      "source": [
        "suppressMessages(library(dplyr))  # A helpful package for manipulating data.\n",
        "mpg_var <- mtcars %>%\n",
        "  summarise_each(\n",
        "    mpg,\n",
        "    funs=list(var)) %>%  # Apply `var()` to each column.\n",
        "  as_tibble()\n",
        "print(mpg_var)"
      ],
      "execution_count": 10,
      "outputs": [
        {
          "output_type": "stream",
          "text": [
            "\u001b[90m# A tibble: 1 x 1\u001b[39m\n",
            "    mpg\n",
            "  \u001b[3m\u001b[90m<dbl>\u001b[39m\u001b[23m\n",
            "\u001b[90m1\u001b[39m  36.3\n"
          ],
          "name": "stdout"
        }
      ]
    },
    {
      "cell_type": "markdown",
      "metadata": {
        "id": "oKKa17HbZIs2",
        "colab_type": "text"
      },
      "source": [
        "## Manipulating data - Aggregating With Grouping\n",
        "\n",
        "Overall statistics can too general. We can instead group certain data together and compute their statistics independently. For example, we can look at the mean `mpg` for cars based on the number of cylinders they have."
      ]
    },
    {
      "cell_type": "code",
      "metadata": {
        "id": "oRbEXV8qeWD5",
        "colab_type": "code",
        "outputId": "b2379995-78f1-4b11-e4f2-17de465278b9",
        "colab": {
          "base_uri": "https://localhost:8080/",
          "height": 337
        }
      },
      "source": [
        "mpg_stats <- mtcars %>%\n",
        "  group_by(cyl) %>%  # Separate data into groups based on cylinder count.\n",
        "  summarise_each(\n",
        "    mpg,  # Indicate the column we want to summarize.\n",
        "    funs=funs(mean_mpg=mean)) %>%  # Calculate mean for each group.\n",
        "  as_tibble()\n",
        "print(mpg_stats)"
      ],
      "execution_count": 11,
      "outputs": [
        {
          "output_type": "stream",
          "text": [
            "Warning message:\n",
            "“funs() is soft deprecated as of dplyr 0.8.0\n",
            "Please use a list of either functions or lambdas: \n",
            "\n",
            "  # Simple named list: \n",
            "  list(mean = mean, median = median)\n",
            "\n",
            "  # Auto named with `tibble::lst()`: \n",
            "  tibble::lst(mean, median)\n",
            "\n",
            "  # Using lambdas\n",
            "  list(~ mean(., trim = .2), ~ median(., na.rm = TRUE))\n",
            "\u001b[90mThis warning is displayed once per session.\u001b[39m”"
          ],
          "name": "stderr"
        },
        {
          "output_type": "stream",
          "text": [
            "\u001b[90m# A tibble: 3 x 2\u001b[39m\n",
            "    cyl mean_mpg\n",
            "  \u001b[3m\u001b[90m<dbl>\u001b[39m\u001b[23m    \u001b[3m\u001b[90m<dbl>\u001b[39m\u001b[23m\n",
            "\u001b[90m1\u001b[39m     4     26.7\n",
            "\u001b[90m2\u001b[39m     6     19.7\n",
            "\u001b[90m3\u001b[39m     8     15.1\n"
          ],
          "name": "stdout"
        }
      ]
    },
    {
      "cell_type": "markdown",
      "metadata": {
        "id": "OeF2g4s5h8Ve",
        "colab_type": "text"
      },
      "source": [
        "## Plotting Aggregations\n",
        "\n",
        "Numbers are easier to compare when they are visualized. Let's plot `mpg_stats` using bar charts to illustrate the difference in `mpg` by `cyl`."
      ]
    },
    {
      "cell_type": "code",
      "metadata": {
        "id": "IsWl_dtlicTk",
        "colab_type": "code",
        "outputId": "671c29c1-5bd1-4e44-a8bf-8c03c10ca488",
        "colab": {
          "base_uri": "https://localhost:8080/",
          "height": 857
        }
      },
      "source": [
        "ggplot(mpg_stats, aes(x=cyl,y=mean_mpg)) +\n",
        "  geom_bar(stat='identity')  # 'identity' indicate values are the bar heights."
      ],
      "execution_count": 12,
      "outputs": [
        {
          "output_type": "display_data",
          "data": {
            "image/png": "[encoded data removed]",
            "text/plain": [
              "plot without title"
            ]
          },
          "metadata": {
            "tags": []
          }
        }
      ]
    },
    {
      "cell_type": "markdown",
      "metadata": {
        "id": "-jpCgIuDjX7n",
        "colab_type": "text"
      },
      "source": [
        "## Plotting Outliers\n",
        "This hides how varied `mpg` values are for each `cyl` group. We can represent this better by showing the distribution of each data point using different plots. Here we use a violin plot and dot plot."
      ]
    },
    {
      "cell_type": "code",
      "metadata": {
        "id": "OTK2OJJPjjLg",
        "colab_type": "code",
        "outputId": "4edab702-c300-4322-cc67-652ed7651e74",
        "colab": {
          "base_uri": "https://localhost:8080/",
          "height": 875
        }
      },
      "source": [
        "ggplot(mtcars, aes(x=cyl, y=mpg, group=cyl)) +\n",
        "  geom_violin() +  # Draw the shape of the distribution for each group.\n",
        "  geom_dotplot(binaxis='y', stackdir='center', dotsize=1) # Draw each point."
      ],
      "execution_count": 13,
      "outputs": [
        {
          "output_type": "stream",
          "text": [
            "`stat_bindot()` using `bins = 30`. Pick better value with `binwidth`.\n"
          ],
          "name": "stderr"
        },
        {
          "output_type": "display_data",
          "data": {
            "image/png": "[encoded data removed]",
            "text/plain": [
              "plot without title"
            ]
          },
          "metadata": {
            "tags": []
          }
        }
      ]
    },
    {
      "cell_type": "markdown",
      "metadata": {
        "id": "CHnkl7RVmp0P",
        "colab_type": "text"
      },
      "source": [
        "## Modeling\n",
        "After exploring the data through plots and aggregate functions, we can start generalizing our understanding of various relationships. For example, we saw as `wt` increases, `mpg` decreases. We can approximate that relationship with a linear model, `lm`."
      ]
    },
    {
      "cell_type": "code",
      "metadata": {
        "id": "6AekqrdVnS7r",
        "colab_type": "code",
        "outputId": "fd4345f4-a17c-40ab-8911-7721dea3886d",
        "colab": {
          "base_uri": "https://localhost:8080/",
          "height": 96
        }
      },
      "source": [
        "summary(lm(mpg ~ wt, mtcars))$coef  # Summarize the `mpg` ~ `wt` relationship. "
      ],
      "execution_count": 14,
      "outputs": [
        {
          "output_type": "display_data",
          "data": {
            "text/plain": [
              "            Estimate  Std. Error t value   Pr(>|t|)    \n",
              "(Intercept) 37.285126 1.877627   19.857575 8.241799e-19\n",
              "wt          -5.344472 0.559101   -9.559044 1.293959e-10"
            ],
            "text/latex": "A matrix: 2 × 4 of type dbl\n\\begin{tabular}{r|llll}\n  & Estimate & Std. Error & t value & Pr(>\\textbar{}t\\textbar{})\\\\\n\\hline\n\t(Intercept) & 37.285126 & 1.877627 & 19.857575 & 8.241799e-19\\\\\n\twt & -5.344472 & 0.559101 & -9.559044 & 1.293959e-10\\\\\n\\end{tabular}\n",
            "text/markdown": "\nA matrix: 2 × 4 of type dbl\n\n| <!--/--> | Estimate | Std. Error | t value | Pr(&gt;|t|) |\n|---|---|---|---|---|\n| (Intercept) | 37.285126 | 1.877627 | 19.857575 | 8.241799e-19 |\n| wt | -5.344472 | 0.559101 | -9.559044 | 1.293959e-10 |\n\n",
            "text/html": [
              "<table>\n",
              "<caption>A matrix: 2 × 4 of type dbl</caption>\n",
              "<thead>\n",
              "\t<tr><th></th><th scope=col>Estimate</th><th scope=col>Std. Error</th><th scope=col>t value</th><th scope=col>Pr(&gt;|t|)</th></tr>\n",
              "</thead>\n",
              "<tbody>\n",
              "\t<tr><th scope=row>(Intercept)</th><td>37.285126</td><td>1.877627</td><td>19.857575</td><td>8.241799e-19</td></tr>\n",
              "\t<tr><th scope=row>wt</th><td>-5.344472</td><td>0.559101</td><td>-9.559044</td><td>1.293959e-10</td></tr>\n",
              "</tbody>\n",
              "</table>\n"
            ]
          },
          "metadata": {
            "tags": []
          }
        }
      ]
    },
    {
      "cell_type": "markdown",
      "metadata": {
        "id": "I6ASxC_JoXks",
        "colab_type": "text"
      },
      "source": [
        "Looking at the [p-value](https://en.wikipedia.org/wiki/P-value), we can see the `mpg` and `wt` relationship is significant. For every 1000 pounds of weight, `mpg` drops by `5.344472`. The intercept indicates a hypothetical weightless car's `mpg` of `37.285126`.\n",
        "\n",
        "We can plot this linear model out on top of our data points for `mpg` and `wt` to see this correlation better."
      ]
    },
    {
      "cell_type": "code",
      "metadata": {
        "id": "ZAtCLqM2lIfA",
        "colab_type": "code",
        "outputId": "54b6f6fe-a711-4444-fb41-57363a05d892",
        "colab": {
          "base_uri": "https://localhost:8080/",
          "height": 857
        }
      },
      "source": [
        "ggplot(mtcars, aes(mpg, wt)) +\n",
        "  geom_point() +\n",
        "  geom_smooth(method = \"lm\", se=FALSE)"
      ],
      "execution_count": 15,
      "outputs": [
        {
          "output_type": "display_data",
          "data": {
            "image/png": "[encoded data removed]",
            "text/plain": [
              "plot without title"
            ]
          },
          "metadata": {
            "tags": []
          }
        }
      ]
    },
    {
      "cell_type": "markdown",
      "metadata": {
        "id": "8jzF4mcdqPiM",
        "colab_type": "text"
      },
      "source": [
        "## Confidence Intervals\n",
        "In the linear model above, we generalized a relationship with just a single value (e.g. `5.344472` loss in `mpg` for each 1000 pounds in `wt`). This can be misleading, and can be better represented using a range of values where we are fairly certain the true value lies.\n",
        "\n",
        "Let's revisit the problem above using `am`: the indicator of an automatic or manual transmission."
      ]
    },
    {
      "cell_type": "code",
      "metadata": {
        "id": "5r_IZhIzrNlZ",
        "colab_type": "code",
        "outputId": "5683bb84-13d4-4e32-99dd-303571338ed9",
        "colab": {
          "base_uri": "https://localhost:8080/",
          "height": 96
        }
      },
      "source": [
        "summary(lm(mpg ~ am, mtcars))$coef  # Summarize the `mpg` ~ `am` relationship. "
      ],
      "execution_count": 16,
      "outputs": [
        {
          "output_type": "display_data",
          "data": {
            "text/plain": [
              "            Estimate  Std. Error t value   Pr(>|t|)    \n",
              "(Intercept) 17.147368 1.124603   15.247492 1.133983e-15\n",
              "am           7.244939 1.764422    4.106127 2.850207e-04"
            ],
            "text/latex": "A matrix: 2 × 4 of type dbl\n\\begin{tabular}{r|llll}\n  & Estimate & Std. Error & t value & Pr(>\\textbar{}t\\textbar{})\\\\\n\\hline\n\t(Intercept) & 17.147368 & 1.124603 & 15.247492 & 1.133983e-15\\\\\n\tam &  7.244939 & 1.764422 &  4.106127 & 2.850207e-04\\\\\n\\end{tabular}\n",
            "text/markdown": "\nA matrix: 2 × 4 of type dbl\n\n| <!--/--> | Estimate | Std. Error | t value | Pr(&gt;|t|) |\n|---|---|---|---|---|\n| (Intercept) | 17.147368 | 1.124603 | 15.247492 | 1.133983e-15 |\n| am |  7.244939 | 1.764422 |  4.106127 | 2.850207e-04 |\n\n",
            "text/html": [
              "<table>\n",
              "<caption>A matrix: 2 × 4 of type dbl</caption>\n",
              "<thead>\n",
              "\t<tr><th></th><th scope=col>Estimate</th><th scope=col>Std. Error</th><th scope=col>t value</th><th scope=col>Pr(&gt;|t|)</th></tr>\n",
              "</thead>\n",
              "<tbody>\n",
              "\t<tr><th scope=row>(Intercept)</th><td>17.147368</td><td>1.124603</td><td>15.247492</td><td>1.133983e-15</td></tr>\n",
              "\t<tr><th scope=row>am</th><td> 7.244939</td><td>1.764422</td><td> 4.106127</td><td>2.850207e-04</td></tr>\n",
              "</tbody>\n",
              "</table>\n"
            ]
          },
          "metadata": {
            "tags": []
          }
        }
      ]
    },
    {
      "cell_type": "markdown",
      "metadata": {
        "id": "XOmUq9jcrsIG",
        "colab_type": "text"
      },
      "source": [
        "At face value, `mpg` decreases by `7.244939` for automatic cars. We can instead represent this difference in `mpg` using a range of values using a [t-test](https://en.wikipedia.org/wiki/Welch%27s_t-test) to define a 95% confidence interval -- the range in which we are 95% certain the true value lies. "
      ]
    },
    {
      "cell_type": "code",
      "metadata": {
        "id": "0JmFbiyqsEjr",
        "colab_type": "code",
        "outputId": "e1c40cc7-5acb-4f97-b191-1d2f62babbc5",
        "colab": {
          "base_uri": "https://localhost:8080/",
          "height": 213
        }
      },
      "source": [
        "t.test(  # Do a t-test comparing\n",
        "  mtcars[mtcars$am == 1,]$mpg,  # the `mpg` of cars using an auto transmission\n",
        "  mtcars[mtcars$am == 0,]$mpg)  # the `mpg` of cars using a manual transmission"
      ],
      "execution_count": 17,
      "outputs": [
        {
          "output_type": "display_data",
          "data": {
            "text/plain": [
              "\n",
              "\tWelch Two Sample t-test\n",
              "\n",
              "data:  mtcars[mtcars$am == 1, ]$mpg and mtcars[mtcars$am == 0, ]$mpg\n",
              "t = 3.7671, df = 18.332, p-value = 0.001374\n",
              "alternative hypothesis: true difference in means is not equal to 0\n",
              "95 percent confidence interval:\n",
              "  3.209684 11.280194\n",
              "sample estimates:\n",
              "mean of x mean of y \n",
              " 24.39231  17.14737 \n"
            ]
          },
          "metadata": {
            "tags": []
          }
        }
      ]
    },
    {
      "cell_type": "markdown",
      "metadata": {
        "id": "CdA_J53ws5SH",
        "colab_type": "text"
      },
      "source": [
        "Here we can see the mean `mpg` for manual cars is `24.39231` compared to `17.14737` for automatic cars, and we are 95% confident the difference in `mpg` is between `3.209684` and `11.280194`. The estimate of `7.244939` above fits snuggly in the middle of this range."
      ]
    },
    {
      "cell_type": "markdown",
      "metadata": {
        "id": "CfT5k3pt7EGY",
        "colab_type": "text"
      },
      "source": [
        "# Unit 2: Querying Data\n",
        "\n",
        "Now that we have the basics, let's learn how to access data from various sources used by most data practitioners such as databases and data files."
      ]
    },
    {
      "cell_type": "markdown",
      "metadata": {
        "id": "EZAOZIaDE3Qu",
        "colab_type": "text"
      },
      "source": [
        "## Databases\n",
        "\n",
        "Most modern systems store data in database tables, highly efficient storage structures that allow for very fast access for extremely large data sets. In this section, we'll try querying data from a test database, `mammals`."
      ]
    },
    {
      "cell_type": "code",
      "metadata": {
        "id": "gu_DXCtZBsn2",
        "colab_type": "code",
        "cellView": "both",
        "outputId": "fa3bd89b-782a-4c55-c683-ab73bb1bff50",
        "colab": {
          "base_uri": "https://localhost:8080/",
          "height": 88
        }
      },
      "source": [
        "#@title Setup 'mammals' database (~5 minutes to run)\n",
        "install.packages(c(\"dbplyr\", \"RSQLite\"))\n",
        "library(dplyr)\n",
        "library(dbplyr)\n",
        "dir.create(\"data_raw\", showWarnings = FALSE)\n",
        "download.file(url = \"https://ndownloader.figshare.com/files/2292171\",\n",
        "              destfile = \"data_raw/portal_mammals.sqlite\", mode = \"wb\")\n",
        "mammals <- DBI::dbConnect(RSQLite::SQLite(), \"data_raw/portal_mammals.sqlite\")"
      ],
      "execution_count": 0,
      "outputs": [
        {
          "output_type": "stream",
          "text": [
            "Installing packages into ‘/usr/local/lib/R/site-library’\n",
            "(as ‘lib’ is unspecified)\n",
            "also installing the dependencies ‘bit’, ‘bit64’, ‘blob’\n",
            "\n"
          ],
          "name": "stderr"
        }
      ]
    },
    {
      "cell_type": "markdown",
      "metadata": {
        "id": "M4W928GqGDqM",
        "colab_type": "text"
      },
      "source": [
        "### Query Everything\n",
        "\n",
        "The most basic query is simply pulling _everything_ from a table. Here we do this, but just get the first `10` rows using the `LIMIT` keyword."
      ]
    },
    {
      "cell_type": "code",
      "metadata": {
        "id": "jJg2iYOPF9nZ",
        "colab_type": "code",
        "colab": {}
      },
      "source": [
        "# Use the tbl() command in conjunction with a database source ('mammals' here)\n",
        "# and your query (represented by `sql_query_1`)\n",
        "sql_query_1 <- sql(\"SELECT * FROM surveys\")\n",
        "tbl(mammals, sql_query_1)"
      ],
      "execution_count": 0,
      "outputs": []
    },
    {
      "cell_type": "markdown",
      "metadata": {
        "id": "vAJjeGu_RSNr",
        "colab_type": "text"
      },
      "source": [
        "The `SELECT` statement above indicates which fields (columns) of data you want to pull. `FROM` indicates which table you are querying. Together, the two statements succinctly indicate you are selecting _all_ fields (indicated by `SELECT *`) from the `surveys` table.\n",
        "\n",
        "### Query Using `dplyr`\n",
        "\n",
        "This lesson won't get into SQL too deeply. Please check out tutorials such as [W3Schools](https://www.w3schools.com/sql/) to learn more. Instead, we'll rely on `dplyr` (described [above](#scrollTo=Z3U9VAdiZATB)) to navigate our database table.\n",
        "\n",
        "Below, let's get all the mammals with `weight < 5`, pulling their `species_id, sex, weight`."
      ]
    },
    {
      "cell_type": "code",
      "metadata": {
        "id": "BlUSFbd3O5Lz",
        "colab_type": "code",
        "colab": {}
      },
      "source": [
        "# Store the `surveys` table as a dataframe that we can access like above\n",
        "surveys <- tbl(mammals, \"surveys\") %>% as.data.frame\n",
        "surveys %>%\n",
        "  filter(weight < 5) %>%\n",
        "  select(species_id, sex, weight)"
      ],
      "execution_count": 0,
      "outputs": []
    },
    {
      "cell_type": "markdown",
      "metadata": {
        "id": "EK2IbBqrAHfE",
        "colab_type": "text"
      },
      "source": [
        "Now that you have a data frame loaded into `df`, try all of the above using the skills your learned before!"
      ]
    },
    {
      "cell_type": "markdown",
      "metadata": {
        "id": "vLD2tkblt-D-",
        "colab_type": "text"
      },
      "source": [
        "## Comma Separated Values (CSVs)\n",
        "\n",
        "Sample data is good to learn, but let's try pulling data from your own data source. Data typically lives in giant database table, but it can sometimes live as tabular data in CSV files.\n",
        "\n",
        "Below is input recording Trik or Treaters by time. Try replacing `raw_data` with your own data. Copy from your own spreadsheet (including the header row) and paste it into `raw_input`."
      ]
    },
    {
      "cell_type": "code",
      "metadata": {
        "id": "Yb15i_qIuLoh",
        "colab_type": "code",
        "colab": {}
      },
      "source": [
        "# Copy from a spreadsheet of your choice (with the header row).\n",
        "# Paste it between the quotes brackets below.\n",
        "raw_input <- '\n",
        "Time\tguests\n",
        "17:45\t3\n",
        "17:50\t4\n",
        "18:00\t1\n",
        "18:16\t2\n",
        "18:27\t2\n",
        "18:28\t1\n",
        "18:38\t5\n",
        "18:44\t8\n",
        "18:47\t2\n",
        "18:48\t5\n",
        "18:49\t1\n",
        "19:00\t6\n",
        "19:04\t2\n",
        "19:18\t4\n",
        "19:29\t3\n",
        "19:31\t2\n",
        "19:37\t1\n",
        "19:43\t3\n",
        "19:45\t2\n",
        "19:49\t6\n",
        "19:54\t2\n",
        "19:57\t2\n",
        "19:59\t1\n",
        "20:04\t3\n",
        "20:06\t2\n",
        "20:11\t1\n",
        "20:15\t4\n",
        "20:22\t2\n",
        "20:30\t6\n",
        "20:53\t4'\n",
        "\n",
        "df <- read.table(text=raw_input, sep=\"\\t\", header=TRUE)\n",
        "print(df)"
      ],
      "execution_count": 0,
      "outputs": []
    },
    {
      "cell_type": "markdown",
      "metadata": {
        "id": "66zWyURKU4SZ",
        "colab_type": "text"
      },
      "source": [
        "# Unit 3: Exercises & Solutions\n",
        "\n",
        "Let's put it all together by reproducing `Unit 1` examples on the real data we started querying from `Unit 2` (i.e. `surveys`)."
      ]
    },
    {
      "cell_type": "markdown",
      "metadata": {
        "id": "u4BruzY-XboB",
        "colab_type": "text"
      },
      "source": [
        "## Exercises"
      ]
    },
    {
      "cell_type": "code",
      "metadata": {
        "id": "hPvkyeyVV1RF",
        "colab_type": "code",
        "colab": {}
      },
      "source": [
        "#@title Exercise 1\n",
        "# Describe the columns, data types, sample values, and table size."
      ],
      "execution_count": 0,
      "outputs": []
    },
    {
      "cell_type": "code",
      "metadata": {
        "colab_type": "code",
        "id": "7BsgdKiaW6Du",
        "colab": {}
      },
      "source": [
        "#@title Exercise 2\n",
        "# List summary statistics for all fields."
      ],
      "execution_count": 0,
      "outputs": []
    },
    {
      "cell_type": "code",
      "metadata": {
        "id": "fDIHxgExXjFG",
        "colab_type": "code",
        "colab": {}
      },
      "source": [
        "#@title Exercise 3\n",
        "# Plot a histogram of hindfoot_length."
      ],
      "execution_count": 0,
      "outputs": []
    },
    {
      "cell_type": "code",
      "metadata": {
        "id": "2_JmasIJYGNI",
        "colab_type": "code",
        "colab": {}
      },
      "source": [
        "#@title Exercise 4\n",
        "# Filter `surveys` on values where hindfoot_length is greater than 0."
      ],
      "execution_count": 0,
      "outputs": []
    },
    {
      "cell_type": "code",
      "metadata": {
        "id": "aZ1sETbhbOVf",
        "colab_type": "code",
        "colab": {}
      },
      "source": [
        "#@title Exercise 5\n",
        "# Plot a histogram of `surveys` on values where hindfoot_length are\n",
        "# greater than 0."
      ],
      "execution_count": 0,
      "outputs": []
    },
    {
      "cell_type": "code",
      "metadata": {
        "id": "1oaGYSPWdGYl",
        "colab_type": "code",
        "colab": {}
      },
      "source": [
        "#@title Exercise 6\n",
        "# Get the average weight.\n",
        "# Hint: you may need to filter out weights that don't exist\n",
        "# (i.e. where weight <= 0)."
      ],
      "execution_count": 0,
      "outputs": []
    },
    {
      "cell_type": "code",
      "metadata": {
        "id": "UjlPd-X0c0Py",
        "colab_type": "code",
        "colab": {}
      },
      "source": [
        "#@title Exercise 7\n",
        "# Get the average weight by sex."
      ],
      "execution_count": 0,
      "outputs": []
    },
    {
      "cell_type": "code",
      "metadata": {
        "id": "0tZGcDjUdiX9",
        "colab_type": "code",
        "colab": {}
      },
      "source": [
        "#@title Exercise 8\n",
        "# Plot the average weight by sex as a histogram."
      ],
      "execution_count": 0,
      "outputs": []
    },
    {
      "cell_type": "code",
      "metadata": {
        "id": "GROKEvGYeKHy",
        "colab_type": "code",
        "colab": {}
      },
      "source": [
        "#@title Exercise 9\n",
        "# Plot a boxplot of weight by sex."
      ],
      "execution_count": 0,
      "outputs": []
    },
    {
      "cell_type": "code",
      "metadata": {
        "id": "g3x2la3Jep6f",
        "colab_type": "code",
        "colab": {}
      },
      "source": [
        "#@title Exercise 10\n",
        "# Model the relationship between weight and hindfoot_length using a\n",
        "# linear regression, identifying the coefficient."
      ],
      "execution_count": 0,
      "outputs": []
    },
    {
      "cell_type": "code",
      "metadata": {
        "id": "f_h2x-UMfMNE",
        "colab_type": "code",
        "colab": {}
      },
      "source": [
        "#@title Exercise 11\n",
        "# Plot the relationship between weight and hindfoot_length using a\n",
        "# linear regression."
      ],
      "execution_count": 0,
      "outputs": []
    },
    {
      "cell_type": "code",
      "metadata": {
        "id": "DGT6itnogGPg",
        "colab_type": "code",
        "colab": {}
      },
      "source": [
        "#@title Exercise 12\n",
        "# Use a t-test to determine the difference in weight between males\n",
        "# and females. How much heavier are males 95% of the time?"
      ],
      "execution_count": 0,
      "outputs": []
    },
    {
      "cell_type": "markdown",
      "metadata": {
        "id": "F05905NsWt9f",
        "colab_type": "text"
      },
      "source": [
        "## Solutions"
      ]
    },
    {
      "cell_type": "code",
      "metadata": {
        "id": "afT-UvOdWfaZ",
        "colab_type": "code",
        "colab": {}
      },
      "source": [
        "#@title Solution 1\n",
        "str(surveys)"
      ],
      "execution_count": 0,
      "outputs": []
    },
    {
      "cell_type": "code",
      "metadata": {
        "id": "oWaNB-moXPBE",
        "colab_type": "code",
        "colab": {}
      },
      "source": [
        "#@title Solution 2\n",
        "summary(surveys)"
      ],
      "execution_count": 0,
      "outputs": []
    },
    {
      "cell_type": "code",
      "metadata": {
        "id": "Z9ZKb0qkXwDO",
        "colab_type": "code",
        "colab": {}
      },
      "source": [
        "#@title Solution 3\n",
        "ggplot(surveys,aes(x=hindfoot_length)) +  # Create a new plot.\n",
        "  geom_histogram()  # Add a histogram to the plot, grouping mpg by 5."
      ],
      "execution_count": 0,
      "outputs": []
    },
    {
      "cell_type": "code",
      "metadata": {
        "id": "f5De4AUZYarf",
        "colab_type": "code",
        "colab": {}
      },
      "source": [
        "#@title Solution 4\n",
        "surveys %>% filter(hindfoot_length > 0)"
      ],
      "execution_count": 0,
      "outputs": []
    },
    {
      "cell_type": "code",
      "metadata": {
        "id": "m5pOKRZ9bYPq",
        "colab_type": "code",
        "colab": {}
      },
      "source": [
        "#@title Solution 5\n",
        "ggplot(surveys %>% filter(hindfoot_length > 0),aes(x=hindfoot_length)) +\n",
        "  geom_histogram()"
      ],
      "execution_count": 0,
      "outputs": []
    },
    {
      "cell_type": "code",
      "metadata": {
        "id": "7FTM0EnGbrOl",
        "colab_type": "code",
        "colab": {}
      },
      "source": [
        "#@title Solution 6\n",
        "surveys %>%\n",
        "  filter(weight > 0) %>%  # Filter out weights <= 0.\n",
        "  summarise_each(\n",
        "    weight,  # Indicate the column we want to summarize.\n",
        "    funs=list(mean_weight=mean))  # Indicate `mean` as the aggregator."
      ],
      "execution_count": 0,
      "outputs": []
    },
    {
      "cell_type": "code",
      "metadata": {
        "id": "R0lp2NKZdKDl",
        "colab_type": "code",
        "colab": {}
      },
      "source": [
        "#@title Solution 7\n",
        "surveys %>%\n",
        "  filter(weight > 0) %>%  # Filter out weights <= 0.\n",
        "  group_by(sex) %>%  # Separate data into groups based on sex.\n",
        "  summarise_each(\n",
        "    weight,  # Indicate the column we want to summarize.\n",
        "    funs=list(mean_weight=mean))  # Indicate `mean` as the aggregator."
      ],
      "execution_count": 0,
      "outputs": []
    },
    {
      "cell_type": "code",
      "metadata": {
        "id": "-E9aRFBldXB_",
        "colab_type": "code",
        "colab": {}
      },
      "source": [
        "#@title Solution 8\n",
        "weight_stats <- surveys %>%\n",
        "  filter(weight > 0) %>%  # Filter out weights <= 0.\n",
        "  group_by(sex) %>%  # Separate data into groups based on sex.\n",
        "  summarise_each(\n",
        "    weight,  # Indicate the column we want to summarize.\n",
        "    funs=list(mean_weight=mean))  # Indicate `mean` as the aggregator.\n",
        "\n",
        "ggplot(weight_stats, aes(x=sex,y=mean_weight)) +\n",
        "  geom_bar(stat='identity')  # 'identity' indicate values are the bar heights."
      ],
      "execution_count": 0,
      "outputs": []
    },
    {
      "cell_type": "code",
      "metadata": {
        "id": "tyAqn10BdwQL",
        "colab_type": "code",
        "colab": {}
      },
      "source": [
        "#@title Solution 9\n",
        "ggplot(surveys, aes(x=sex, y=weight)) +\n",
        "  geom_boxplot() "
      ],
      "execution_count": 0,
      "outputs": []
    },
    {
      "cell_type": "code",
      "metadata": {
        "id": "vHm6MOuyeevn",
        "colab_type": "code",
        "colab": {}
      },
      "source": [
        "#@title Solution 10\n",
        "summary(lm(weight ~ hindfoot_length, surveys))$coef"
      ],
      "execution_count": 0,
      "outputs": []
    },
    {
      "cell_type": "code",
      "metadata": {
        "id": "7qU0WuBeez7B",
        "colab_type": "code",
        "colab": {}
      },
      "source": [
        "#@title Solution 11\n",
        "ggplot(surveys, aes(weight, hindfoot_length)) +\n",
        "  geom_point() +\n",
        "  geom_smooth(method = \"lm\", se=FALSE)"
      ],
      "execution_count": 0,
      "outputs": []
    },
    {
      "cell_type": "code",
      "metadata": {
        "id": "X0p2wedDfGo1",
        "colab_type": "code",
        "colab": {}
      },
      "source": [
        "#@title Solution 12\n",
        "t.test(  # Do a t-test comparing\n",
        "  surveys[surveys$sex == 'M',]$weight,  # the `weight` of males\n",
        "  surveys[surveys$sex == 'F',]$weight)  # the `weight' of females\n",
        "\n",
        "# Males are between [0.02552529, 1.62412287] pounds heavier 95%\n",
        "# of the time."
      ],
      "execution_count": 0,
      "outputs": []
    }
  ]
}